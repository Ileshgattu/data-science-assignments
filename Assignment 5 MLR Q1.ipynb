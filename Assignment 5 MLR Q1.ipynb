{
 "cells": [
  {
   "cell_type": "markdown",
   "id": "f3b14dec",
   "metadata": {},
   "source": [
    "# Q1).Prepare a prediction model for profit of 50_startups data.\n",
    "# Do transformations for getting better predictions of profit and\n",
    "# make a table containing R^2 value for each prepared model.\n",
    "\n",
    "# R&D Spend -- Research and devolop spend in the past few years\n",
    "# Administration -- spend on administration in the past few years\n",
    "# Marketing Spend -- spend on Marketing in the past few years\n",
    "# State -- states from which data is collected\n",
    "# Profit  -- profit of each state in the past few years"
   ]
  },
  {
   "cell_type": "code",
   "execution_count": 1,
   "id": "72f7fe48",
   "metadata": {},
   "outputs": [
    {
     "data": {
      "text/html": [
       "<div>\n",
       "<style scoped>\n",
       "    .dataframe tbody tr th:only-of-type {\n",
       "        vertical-align: middle;\n",
       "    }\n",
       "\n",
       "    .dataframe tbody tr th {\n",
       "        vertical-align: top;\n",
       "    }\n",
       "\n",
       "    .dataframe thead th {\n",
       "        text-align: right;\n",
       "    }\n",
       "</style>\n",
       "<table border=\"1\" class=\"dataframe\">\n",
       "  <thead>\n",
       "    <tr style=\"text-align: right;\">\n",
       "      <th></th>\n",
       "      <th>R&amp;D Spend</th>\n",
       "      <th>Administration</th>\n",
       "      <th>Marketing Spend</th>\n",
       "      <th>State</th>\n",
       "      <th>Profit</th>\n",
       "    </tr>\n",
       "  </thead>\n",
       "  <tbody>\n",
       "    <tr>\n",
       "      <th>0</th>\n",
       "      <td>165349.20</td>\n",
       "      <td>136897.80</td>\n",
       "      <td>471784.10</td>\n",
       "      <td>New York</td>\n",
       "      <td>192261.83</td>\n",
       "    </tr>\n",
       "    <tr>\n",
       "      <th>1</th>\n",
       "      <td>162597.70</td>\n",
       "      <td>151377.59</td>\n",
       "      <td>443898.53</td>\n",
       "      <td>California</td>\n",
       "      <td>191792.06</td>\n",
       "    </tr>\n",
       "    <tr>\n",
       "      <th>2</th>\n",
       "      <td>153441.51</td>\n",
       "      <td>101145.55</td>\n",
       "      <td>407934.54</td>\n",
       "      <td>Florida</td>\n",
       "      <td>191050.39</td>\n",
       "    </tr>\n",
       "    <tr>\n",
       "      <th>3</th>\n",
       "      <td>144372.41</td>\n",
       "      <td>118671.85</td>\n",
       "      <td>383199.62</td>\n",
       "      <td>New York</td>\n",
       "      <td>182901.99</td>\n",
       "    </tr>\n",
       "    <tr>\n",
       "      <th>4</th>\n",
       "      <td>142107.34</td>\n",
       "      <td>91391.77</td>\n",
       "      <td>366168.42</td>\n",
       "      <td>Florida</td>\n",
       "      <td>166187.94</td>\n",
       "    </tr>\n",
       "  </tbody>\n",
       "</table>\n",
       "</div>"
      ],
      "text/plain": [
       "   R&D Spend  Administration  Marketing Spend       State     Profit\n",
       "0  165349.20       136897.80        471784.10    New York  192261.83\n",
       "1  162597.70       151377.59        443898.53  California  191792.06\n",
       "2  153441.51       101145.55        407934.54     Florida  191050.39\n",
       "3  144372.41       118671.85        383199.62    New York  182901.99\n",
       "4  142107.34        91391.77        366168.42     Florida  166187.94"
      ]
     },
     "execution_count": 1,
     "metadata": {},
     "output_type": "execute_result"
    }
   ],
   "source": [
    "import pandas as pd\n",
    "df1 = pd.read_csv('50_Startups.csv')\n",
    "df1.head()"
   ]
  },
  {
   "cell_type": "code",
   "execution_count": 2,
   "id": "03c14807",
   "metadata": {},
   "outputs": [
    {
     "data": {
      "text/html": [
       "<div>\n",
       "<style scoped>\n",
       "    .dataframe tbody tr th:only-of-type {\n",
       "        vertical-align: middle;\n",
       "    }\n",
       "\n",
       "    .dataframe tbody tr th {\n",
       "        vertical-align: top;\n",
       "    }\n",
       "\n",
       "    .dataframe thead th {\n",
       "        text-align: right;\n",
       "    }\n",
       "</style>\n",
       "<table border=\"1\" class=\"dataframe\">\n",
       "  <thead>\n",
       "    <tr style=\"text-align: right;\">\n",
       "      <th></th>\n",
       "      <th>R&amp;D Spend</th>\n",
       "      <th>Administration</th>\n",
       "      <th>Marketing Spend</th>\n",
       "      <th>Profit</th>\n",
       "    </tr>\n",
       "  </thead>\n",
       "  <tbody>\n",
       "    <tr>\n",
       "      <th>R&amp;D Spend</th>\n",
       "      <td>1.000000</td>\n",
       "      <td>0.241955</td>\n",
       "      <td>0.724248</td>\n",
       "      <td>0.972900</td>\n",
       "    </tr>\n",
       "    <tr>\n",
       "      <th>Administration</th>\n",
       "      <td>0.241955</td>\n",
       "      <td>1.000000</td>\n",
       "      <td>-0.032154</td>\n",
       "      <td>0.200717</td>\n",
       "    </tr>\n",
       "    <tr>\n",
       "      <th>Marketing Spend</th>\n",
       "      <td>0.724248</td>\n",
       "      <td>-0.032154</td>\n",
       "      <td>1.000000</td>\n",
       "      <td>0.747766</td>\n",
       "    </tr>\n",
       "    <tr>\n",
       "      <th>Profit</th>\n",
       "      <td>0.972900</td>\n",
       "      <td>0.200717</td>\n",
       "      <td>0.747766</td>\n",
       "      <td>1.000000</td>\n",
       "    </tr>\n",
       "  </tbody>\n",
       "</table>\n",
       "</div>"
      ],
      "text/plain": [
       "                 R&D Spend  Administration  Marketing Spend    Profit\n",
       "R&D Spend         1.000000        0.241955         0.724248  0.972900\n",
       "Administration    0.241955        1.000000        -0.032154  0.200717\n",
       "Marketing Spend   0.724248       -0.032154         1.000000  0.747766\n",
       "Profit            0.972900        0.200717         0.747766  1.000000"
      ]
     },
     "execution_count": 2,
     "metadata": {},
     "output_type": "execute_result"
    }
   ],
   "source": [
    "df1.corr()"
   ]
  },
  {
   "cell_type": "code",
   "execution_count": 3,
   "id": "5ad88b48",
   "metadata": {},
   "outputs": [
    {
     "data": {
      "text/html": [
       "<div>\n",
       "<style scoped>\n",
       "    .dataframe tbody tr th:only-of-type {\n",
       "        vertical-align: middle;\n",
       "    }\n",
       "\n",
       "    .dataframe tbody tr th {\n",
       "        vertical-align: top;\n",
       "    }\n",
       "\n",
       "    .dataframe thead th {\n",
       "        text-align: right;\n",
       "    }\n",
       "</style>\n",
       "<table border=\"1\" class=\"dataframe\">\n",
       "  <thead>\n",
       "    <tr style=\"text-align: right;\">\n",
       "      <th></th>\n",
       "      <th>Profit</th>\n",
       "    </tr>\n",
       "  </thead>\n",
       "  <tbody>\n",
       "    <tr>\n",
       "      <th>0</th>\n",
       "      <td>192261.83</td>\n",
       "    </tr>\n",
       "    <tr>\n",
       "      <th>1</th>\n",
       "      <td>191792.06</td>\n",
       "    </tr>\n",
       "    <tr>\n",
       "      <th>2</th>\n",
       "      <td>191050.39</td>\n",
       "    </tr>\n",
       "    <tr>\n",
       "      <th>3</th>\n",
       "      <td>182901.99</td>\n",
       "    </tr>\n",
       "    <tr>\n",
       "      <th>4</th>\n",
       "      <td>166187.94</td>\n",
       "    </tr>\n",
       "  </tbody>\n",
       "</table>\n",
       "</div>"
      ],
      "text/plain": [
       "      Profit\n",
       "0  192261.83\n",
       "1  191792.06\n",
       "2  191050.39\n",
       "3  182901.99\n",
       "4  166187.94"
      ]
     },
     "execution_count": 3,
     "metadata": {},
     "output_type": "execute_result"
    }
   ],
   "source": [
    "Y = df1[['Profit']]\n",
    "Y.head()"
   ]
  },
  {
   "cell_type": "code",
   "execution_count": 4,
   "id": "2641d691",
   "metadata": {},
   "outputs": [
    {
     "data": {
      "text/html": [
       "<div>\n",
       "<style scoped>\n",
       "    .dataframe tbody tr th:only-of-type {\n",
       "        vertical-align: middle;\n",
       "    }\n",
       "\n",
       "    .dataframe tbody tr th {\n",
       "        vertical-align: top;\n",
       "    }\n",
       "\n",
       "    .dataframe thead th {\n",
       "        text-align: right;\n",
       "    }\n",
       "</style>\n",
       "<table border=\"1\" class=\"dataframe\">\n",
       "  <thead>\n",
       "    <tr style=\"text-align: right;\">\n",
       "      <th></th>\n",
       "      <th>R&amp;D Spend</th>\n",
       "      <th>Administration</th>\n",
       "      <th>Marketing Spend</th>\n",
       "    </tr>\n",
       "  </thead>\n",
       "  <tbody>\n",
       "    <tr>\n",
       "      <th>0</th>\n",
       "      <td>165349.20</td>\n",
       "      <td>136897.80</td>\n",
       "      <td>471784.10</td>\n",
       "    </tr>\n",
       "    <tr>\n",
       "      <th>1</th>\n",
       "      <td>162597.70</td>\n",
       "      <td>151377.59</td>\n",
       "      <td>443898.53</td>\n",
       "    </tr>\n",
       "    <tr>\n",
       "      <th>2</th>\n",
       "      <td>153441.51</td>\n",
       "      <td>101145.55</td>\n",
       "      <td>407934.54</td>\n",
       "    </tr>\n",
       "    <tr>\n",
       "      <th>3</th>\n",
       "      <td>144372.41</td>\n",
       "      <td>118671.85</td>\n",
       "      <td>383199.62</td>\n",
       "    </tr>\n",
       "    <tr>\n",
       "      <th>4</th>\n",
       "      <td>142107.34</td>\n",
       "      <td>91391.77</td>\n",
       "      <td>366168.42</td>\n",
       "    </tr>\n",
       "  </tbody>\n",
       "</table>\n",
       "</div>"
      ],
      "text/plain": [
       "   R&D Spend  Administration  Marketing Spend\n",
       "0  165349.20       136897.80        471784.10\n",
       "1  162597.70       151377.59        443898.53\n",
       "2  153441.51       101145.55        407934.54\n",
       "3  144372.41       118671.85        383199.62\n",
       "4  142107.34        91391.77        366168.42"
      ]
     },
     "execution_count": 4,
     "metadata": {},
     "output_type": "execute_result"
    }
   ],
   "source": [
    "X = df1.drop(['State','Profit'],axis=1)\n",
    "X.head()"
   ]
  },
  {
   "cell_type": "code",
   "execution_count": 5,
   "id": "4d244c98",
   "metadata": {},
   "outputs": [],
   "source": [
    "import numpy as np\n",
    "X1 = df1[['R&D Spend']]\n",
    "X2 = df1[['R&D Spend','Administration']]\n",
    "X3 = df1[['R&D Spend','Administration','Marketing Spend',]]\n",
    "X4 = df1[['R&D Spend','Marketing Spend']]\n",
    "X5 = pow(X1,2)\n",
    "X6 = pow(X1,3)\n",
    "X7 = np.sqrt(X1)\n",
    "X8 = np.cbrt(X1)\n",
    "X9 = pow(X2,2)\n",
    "X10 = pow(X2,3)\n",
    "X11 = np.sqrt(X2)\n",
    "X12 = np.cbrt(X2)\n",
    "X13 = pow(X3,2)\n",
    "X14 = pow(X3,3)\n",
    "X15 = np.sqrt(X3)\n",
    "X16 = np.cbrt(X3)\n",
    "X17 = pow(X4,2)\n",
    "X18 = pow(X4,3)\n",
    "X19 = np.sqrt(X4)\n",
    "X20 = np.cbrt(X4)"
   ]
  },
  {
   "cell_type": "code",
   "execution_count": 6,
   "id": "26611143",
   "metadata": {},
   "outputs": [
    {
     "data": {
      "text/plain": [
       "LinearRegression()"
      ]
     },
     "execution_count": 6,
     "metadata": {},
     "output_type": "execute_result"
    }
   ],
   "source": [
    "from sklearn.linear_model import LinearRegression\n",
    "LR = LinearRegression()\n",
    "LR.fit(X1,Y)"
   ]
  },
  {
   "cell_type": "code",
   "execution_count": 7,
   "id": "060bd2b8",
   "metadata": {},
   "outputs": [
    {
     "name": "stdout",
     "output_type": "stream",
     "text": [
      "Intercept point is [49032.89914125]\n",
      "Coef is [[0.85429137]]\n"
     ]
    },
    {
     "data": {
      "image/png": "[encoded data removed]",
      "text/plain": [
       "<Figure size 640x480 with 1 Axes>"
      ]
     },
     "metadata": {},
     "output_type": "display_data"
    }
   ],
   "source": [
    "Y1_pred = LR.predict(X1)\n",
    "print('Intercept point is',LR.intercept_)\n",
    "print('Coef is',LR.coef_)\n",
    "import matplotlib.pyplot as plt\n",
    "plt.scatter(X1,Y,color='yellow')\n",
    "plt.scatter(X1,Y1_pred,color='red')\n",
    "plt.plot(X1,Y1_pred,color='black')\n",
    "plt.show()"
   ]
  },
  {
   "cell_type": "code",
   "execution_count": 8,
   "id": "2a167ce0",
   "metadata": {},
   "outputs": [
    {
     "name": "stdout",
     "output_type": "stream",
     "text": [
      "MSE is 85120931.33\n",
      "RMSE is 9226.1\n",
      "R^2 score is 0.95\n"
     ]
    }
   ],
   "source": [
    "from sklearn.metrics import mean_squared_error,r2_score\n",
    "print('MSE is',mean_squared_error(Y,Y1_pred).round(2))\n",
    "print('RMSE is',np.sqrt(mean_squared_error(Y,Y1_pred)).round(2))\n",
    "print('R^2 score is',r2_score(Y,Y1_pred).round(2))"
   ]
  },
  {
   "cell_type": "code",
   "execution_count": 9,
   "id": "9cf46157",
   "metadata": {},
   "outputs": [
    {
     "name": "stdout",
     "output_type": "stream",
     "text": [
      "Intercept point is [54886.62062756]\n",
      "Coef is [[ 0.86211798 -0.05299543]]\n",
      "MSE is 83086833.26\n",
      "RMSE is 9115.2\n",
      "R^2 score is 0.95\n"
     ]
    }
   ],
   "source": [
    "LR.fit(X2,Y)\n",
    "Y2_pred = LR.predict(X2)\n",
    "print('Intercept point is',LR.intercept_)\n",
    "print('Coef is',LR.coef_)\n",
    "print('MSE is',mean_squared_error(Y,Y2_pred).round(2))\n",
    "print('RMSE is',np.sqrt(mean_squared_error(Y,Y2_pred)).round(2))\n",
    "print('R^2 score is',r2_score(Y,Y2_pred).round(2))"
   ]
  },
  {
   "cell_type": "code",
   "execution_count": 10,
   "id": "01828346",
   "metadata": {},
   "outputs": [
    {
     "name": "stdout",
     "output_type": "stream",
     "text": [
      "Intercept point is [50122.19298987]\n",
      "Coef is [[ 0.80571505 -0.02681597  0.02722806]]\n",
      "MSE is 78417126.02\n",
      "RMSE is 8855.34\n",
      "R^2 score is 0.95\n"
     ]
    }
   ],
   "source": [
    "LR.fit(X3,Y)\n",
    "Y3_pred = LR.predict(X3)\n",
    "print('Intercept point is',LR.intercept_)\n",
    "print('Coef is',LR.coef_)\n",
    "print('MSE is',mean_squared_error(Y,Y3_pred).round(2))\n",
    "print('RMSE is',np.sqrt(mean_squared_error(Y,Y3_pred)).round(2))\n",
    "print('R^2 score is',r2_score(Y,Y3_pred).round(2))"
   ]
  },
  {
   "cell_type": "code",
   "execution_count": 11,
   "id": "a0177bbc",
   "metadata": {},
   "outputs": [
    {
     "name": "stdout",
     "output_type": "stream",
     "text": [
      "Intercept point is [46975.86422072]\n",
      "Coef is [[0.79658404 0.02990788]]\n",
      "MSE is 78887897.01\n",
      "RMSE is 8881.89\n",
      "R^2 score is 0.95\n"
     ]
    }
   ],
   "source": [
    "LR.fit(X4,Y)\n",
    "Y4_pred = LR.predict(X4)\n",
    "print('Intercept point is',LR.intercept_)\n",
    "print('Coef is',LR.coef_)\n",
    "print('MSE is',mean_squared_error(Y,Y4_pred).round(2))\n",
    "print('RMSE is',np.sqrt(mean_squared_error(Y,Y4_pred)).round(2))\n",
    "print('R^2 score is',r2_score(Y,Y4_pred).round(2))"
   ]
  },
  {
   "cell_type": "code",
   "execution_count": 12,
   "id": "eb1d4a98",
   "metadata": {},
   "outputs": [
    {
     "name": "stdout",
     "output_type": "stream",
     "text": [
      "Intercept point is [74547.07537331]\n",
      "Coef is [[4.99557276e-06]]\n",
      "MSE is 234883750.96\n",
      "RMSE is 15325.92\n",
      "R^2 score is 0.85\n"
     ]
    }
   ],
   "source": [
    "LR.fit(X5,Y)\n",
    "Y5_pred = LR.predict(X5)\n",
    "print('Intercept point is',LR.intercept_)\n",
    "print('Coef is',LR.coef_)\n",
    "print('MSE is',mean_squared_error(Y,Y5_pred).round(2))\n",
    "print('RMSE is',np.sqrt(mean_squared_error(Y,Y5_pred)).round(2))\n",
    "print('R^2 score is',r2_score(Y,Y5_pred).round(2))"
   ]
  },
  {
   "cell_type": "code",
   "execution_count": 13,
   "id": "eb81ee2c",
   "metadata": {},
   "outputs": [
    {
     "name": "stdout",
     "output_type": "stream",
     "text": [
      "Intercept point is [85923.73215527]\n",
      "Coef is [[2.99092516e-11]]\n",
      "MSE is 406937939.24\n",
      "RMSE is 20172.7\n",
      "R^2 score is 0.74\n"
     ]
    }
   ],
   "source": [
    "LR.fit(X6,Y)\n",
    "Y6_pred = LR.predict(X6)\n",
    "print('Intercept point is',LR.intercept_)\n",
    "print('Coef is',LR.coef_)\n",
    "print('MSE is',mean_squared_error(Y,Y6_pred).round(2))\n",
    "print('RMSE is',np.sqrt(mean_squared_error(Y,Y6_pred)).round(2))\n",
    "print('R^2 score is',r2_score(Y,Y6_pred).round(2))"
   ]
  },
  {
   "cell_type": "code",
   "execution_count": 14,
   "id": "580f2efd",
   "metadata": {},
   "outputs": [
    {
     "name": "stdout",
     "output_type": "stream",
     "text": [
      "Intercept point is [21225.16823768]\n",
      "Coef is [[362.42221747]]\n",
      "MSE is 151137131.83\n",
      "RMSE is 12293.78\n",
      "R^2 score is 0.91\n"
     ]
    }
   ],
   "source": [
    "LR.fit(X7,Y)\n",
    "Y7_pred = LR.predict(X7)\n",
    "print('Intercept point is',LR.intercept_)\n",
    "print('Coef is',LR.coef_)\n",
    "print('MSE is',mean_squared_error(Y,Y7_pred).round(2))\n",
    "print('RMSE is',np.sqrt(mean_squared_error(Y,Y7_pred)).round(2))\n",
    "print('R^2 score is',r2_score(Y,Y7_pred).round(2))"
   ]
  },
  {
   "cell_type": "code",
   "execution_count": 15,
   "id": "76160701",
   "metadata": {},
   "outputs": [
    {
     "name": "stdout",
     "output_type": "stream",
     "text": [
      "Intercept point is [6051.03451259]\n",
      "Coef is [[2756.94186415]]\n",
      "MSE is 262676184.66\n",
      "RMSE is 16207.29\n",
      "R^2 score is 0.84\n"
     ]
    }
   ],
   "source": [
    "LR.fit(X8,Y)\n",
    "Y8_pred = LR.predict(X8)\n",
    "print('Intercept point is',LR.intercept_)\n",
    "print('Coef is',LR.coef_)\n",
    "print('MSE is',mean_squared_error(Y,Y8_pred).round(2))\n",
    "print('RMSE is',np.sqrt(mean_squared_error(Y,Y8_pred)).round(2))\n",
    "print('R^2 score is',r2_score(Y,Y8_pred).round(2))"
   ]
  },
  {
   "cell_type": "code",
   "execution_count": 16,
   "id": "5ec8bc2f",
   "metadata": {},
   "outputs": [
    {
     "name": "stdout",
     "output_type": "stream",
     "text": [
      "Intercept point is [72552.95023278]\n",
      "Coef is [[4.97618775e-06 1.38087834e-07]]\n",
      "MSE is 234110320.37\n",
      "RMSE is 15300.66\n",
      "R^2 score is 0.85\n"
     ]
    }
   ],
   "source": [
    "LR.fit(X9,Y)\n",
    "Y9_pred = LR.predict(X9)\n",
    "print('Intercept point is',LR.intercept_)\n",
    "print('Coef is',LR.coef_)\n",
    "print('MSE is',mean_squared_error(Y,Y9_pred).round(2))\n",
    "print('RMSE is',np.sqrt(mean_squared_error(Y,Y9_pred)).round(2))\n",
    "print('R^2 score is',r2_score(Y,Y9_pred).round(2))"
   ]
  },
  {
   "cell_type": "code",
   "execution_count": 17,
   "id": "6ba2ca7b",
   "metadata": {},
   "outputs": [
    {
     "name": "stdout",
     "output_type": "stream",
     "text": [
      "Intercept point is [82327.18387933]\n",
      "Coef is [[2.97125065e-11 1.83216408e-12]]\n",
      "MSE is 402052221.38\n",
      "RMSE is 20051.24\n",
      "R^2 score is 0.75\n"
     ]
    }
   ],
   "source": [
    "LR.fit(X10,Y)\n",
    "Y10_pred = LR.predict(X10)\n",
    "print('Intercept point is',LR.intercept_)\n",
    "print('Coef is',LR.coef_)\n",
    "print('MSE is',mean_squared_error(Y,Y10_pred).round(2))\n",
    "print('RMSE is',np.sqrt(mean_squared_error(Y,Y10_pred)).round(2))\n",
    "print('R^2 score is',r2_score(Y,Y10_pred).round(2))"
   ]
  },
  {
   "cell_type": "code",
   "execution_count": 18,
   "id": "4ca39519",
   "metadata": {},
   "outputs": [
    {
     "name": "stdout",
     "output_type": "stream",
     "text": [
      "Intercept point is [32102.28746334]\n",
      "Coef is [[366.02848058 -34.06858338]]\n",
      "MSE is 149218983.88\n",
      "RMSE is 12215.52\n",
      "R^2 score is 0.91\n"
     ]
    }
   ],
   "source": [
    "LR.fit(X11,Y)\n",
    "Y11_pred = LR.predict(X11)\n",
    "print('Intercept point is',LR.intercept_)\n",
    "print('Coef is',LR.coef_)\n",
    "print('MSE is',mean_squared_error(Y,Y11_pred).round(2))\n",
    "print('RMSE is',np.sqrt(mean_squared_error(Y,Y11_pred)).round(2))\n",
    "print('R^2 score is',r2_score(Y,Y11_pred).round(2))"
   ]
  },
  {
   "cell_type": "code",
   "execution_count": 19,
   "id": "2d62b28d",
   "metadata": {},
   "outputs": [
    {
     "name": "stdout",
     "output_type": "stream",
     "text": [
      "Intercept point is [7998.91596957]\n",
      "Coef is [[2760.17006121  -42.13121315]]\n",
      "MSE is 262648260.38\n",
      "RMSE is 16206.43\n",
      "R^2 score is 0.84\n"
     ]
    }
   ],
   "source": [
    "LR.fit(X12,Y)\n",
    "Y12_pred = LR.predict(X12)\n",
    "print('Intercept point is',LR.intercept_)\n",
    "print('Coef is',LR.coef_)\n",
    "print('MSE is',mean_squared_error(Y,Y12_pred).round(2))\n",
    "print('RMSE is',np.sqrt(mean_squared_error(Y,Y12_pred)).round(2))\n",
    "print('R^2 score is',r2_score(Y,Y12_pred).round(2))"
   ]
  },
  {
   "cell_type": "code",
   "execution_count": 20,
   "id": "1de449d8",
   "metadata": {},
   "outputs": [
    {
     "name": "stdout",
     "output_type": "stream",
     "text": [
      "Intercept point is [70978.72972157]\n",
      "Coef is [[4.70925063e-06 1.97166334e-07 4.49560365e-08]]\n",
      "MSE is 232196425.45\n",
      "RMSE is 15237.99\n",
      "R^2 score is 0.85\n"
     ]
    }
   ],
   "source": [
    "LR.fit(X13,Y)\n",
    "Y13_pred = LR.predict(X13)\n",
    "print('Intercept point is',LR.intercept_)\n",
    "print('Coef is',LR.coef_)\n",
    "print('MSE is',mean_squared_error(Y,Y13_pred).round(2))\n",
    "print('RMSE is',np.sqrt(mean_squared_error(Y,Y13_pred)).round(2))\n",
    "print('R^2 score is',r2_score(Y,Y13_pred).round(2))"
   ]
  },
  {
   "cell_type": "code",
   "execution_count": 21,
   "id": "204e4a43",
   "metadata": {},
   "outputs": [
    {
     "name": "stdout",
     "output_type": "stream",
     "text": [
      "Intercept point is [82460.10358188]\n",
      "Coef is [[ 3.00067419e-11  1.79820490e-12 -1.71938372e-14]]\n",
      "MSE is 402012509.36\n",
      "RMSE is 20050.25\n",
      "R^2 score is 0.75\n"
     ]
    }
   ],
   "source": [
    "LR.fit(X14,Y)\n",
    "Y14_pred = LR.predict(X14)\n",
    "print('Intercept point is',LR.intercept_)\n",
    "print('Coef is',LR.coef_)\n",
    "print('MSE is',mean_squared_error(Y,Y14_pred).round(2))\n",
    "print('RMSE is',np.sqrt(mean_squared_error(Y,Y14_pred)).round(2))\n",
    "print('R^2 score is',r2_score(Y,Y14_pred).round(2))"
   ]
  },
  {
   "cell_type": "code",
   "execution_count": 22,
   "id": "b458f357",
   "metadata": {},
   "outputs": [
    {
     "name": "stdout",
     "output_type": "stream",
     "text": [
      "Intercept point is [26498.06641618]\n",
      "Coef is [[349.35805336 -22.68634093  13.71126971]]\n",
      "MSE is 146541050.35\n",
      "RMSE is 12105.41\n",
      "R^2 score is 0.91\n"
     ]
    }
   ],
   "source": [
    "LR.fit(X15,Y)\n",
    "Y15_pred = LR.predict(X15)\n",
    "print('Intercept point is',LR.intercept_)\n",
    "print('Coef is',LR.coef_)\n",
    "print('MSE is',mean_squared_error(Y,Y15_pred).round(2))\n",
    "print('RMSE is',np.sqrt(mean_squared_error(Y,Y15_pred)).round(2))\n",
    "print('R^2 score is',r2_score(Y,Y15_pred).round(2))"
   ]
  },
  {
   "cell_type": "code",
   "execution_count": 23,
   "id": "49db9c26",
   "metadata": {},
   "outputs": [
    {
     "name": "stdout",
     "output_type": "stream",
     "text": [
      "Intercept point is [3551.05691658]\n",
      "Coef is [[2673.58578783   20.85258426   85.44677717]]\n",
      "MSE is 261317167.29\n",
      "RMSE is 16165.31\n",
      "R^2 score is 0.84\n"
     ]
    }
   ],
   "source": [
    "LR.fit(X16,Y)\n",
    "Y16_pred = LR.predict(X16)\n",
    "print('Intercept point is',LR.intercept_)\n",
    "print('Coef is',LR.coef_)\n",
    "print('MSE is',mean_squared_error(Y,Y16_pred).round(2))\n",
    "print('RMSE is',np.sqrt(mean_squared_error(Y,Y16_pred)).round(2))\n",
    "print('R^2 score is',r2_score(Y,Y16_pred).round(2))"
   ]
  },
  {
   "cell_type": "code",
   "execution_count": 24,
   "id": "35267d9a",
   "metadata": {},
   "outputs": [
    {
     "name": "stdout",
     "output_type": "stream",
     "text": [
      "Intercept point is [73991.7515046]\n",
      "Coef is [[4.79638090e-06 3.46224563e-08]]\n",
      "MSE is 233664621.95\n",
      "RMSE is 15286.09\n",
      "R^2 score is 0.85\n"
     ]
    }
   ],
   "source": [
    "LR.fit(X17,Y)\n",
    "Y17_pred = LR.predict(X17)\n",
    "print('Intercept point is',LR.intercept_)\n",
    "print('Coef is',LR.coef_)\n",
    "print('MSE is',mean_squared_error(Y,Y17_pred).round(2))\n",
    "print('RMSE is',np.sqrt(mean_squared_error(Y,Y17_pred)).round(2))\n",
    "print('R^2 score is',r2_score(Y,Y17_pred).round(2))"
   ]
  },
  {
   "cell_type": "code",
   "execution_count": 25,
   "id": "e1e1e803",
   "metadata": {},
   "outputs": [
    {
     "name": "stdout",
     "output_type": "stream",
     "text": [
      "Intercept point is [86132.26572071]\n",
      "Coef is [[ 3.08238251e-11 -5.41143893e-14]]\n",
      "MSE is 406527942.39\n",
      "RMSE is 20162.54\n",
      "R^2 score is 0.74\n"
     ]
    }
   ],
   "source": [
    "LR.fit(X18,Y)\n",
    "Y18_pred = LR.predict(X18)\n",
    "print('Intercept point is',LR.intercept_)\n",
    "print('Coef is',LR.coef_)\n",
    "print('MSE is',mean_squared_error(Y,Y18_pred).round(2))\n",
    "print('RMSE is',np.sqrt(mean_squared_error(Y,Y18_pred)).round(2))\n",
    "print('R^2 score is',r2_score(Y,Y18_pred).round(2))"
   ]
  },
  {
   "cell_type": "code",
   "execution_count": 26,
   "id": "7b8a4831",
   "metadata": {},
   "outputs": [
    {
     "name": "stdout",
     "output_type": "stream",
     "text": [
      "Intercept point is [18964.25199321]\n",
      "Coef is [[344.67456905  15.7344735 ]]\n",
      "MSE is 147328637.05\n",
      "RMSE is 12137.9\n",
      "R^2 score is 0.91\n"
     ]
    }
   ],
   "source": [
    "LR.fit(X19,Y)\n",
    "Y19_pred = LR.predict(X19)\n",
    "print('Intercept point is',LR.intercept_)\n",
    "print('Coef is',LR.coef_)\n",
    "print('MSE is',mean_squared_error(Y,Y19_pred).round(2))\n",
    "print('RMSE is',np.sqrt(mean_squared_error(Y,Y19_pred)).round(2))\n",
    "print('R^2 score is',r2_score(Y,Y19_pred).round(2))"
   ]
  },
  {
   "cell_type": "code",
   "execution_count": 27,
   "id": "af598911",
   "metadata": {},
   "outputs": [
    {
     "name": "stdout",
     "output_type": "stream",
     "text": [
      "Intercept point is [4537.92154878]\n",
      "Coef is [[2676.39580154   84.17985033]]\n",
      "MSE is 261323701.54\n",
      "RMSE is 16165.51\n",
      "R^2 score is 0.84\n"
     ]
    }
   ],
   "source": [
    "LR.fit(X20,Y)\n",
    "Y20_pred = LR.predict(X20)\n",
    "print('Intercept point is',LR.intercept_)\n",
    "print('Coef is',LR.coef_)\n",
    "print('MSE is',mean_squared_error(Y,Y20_pred).round(2))\n",
    "print('RMSE is',np.sqrt(mean_squared_error(Y,Y20_pred)).round(2))\n",
    "print('R^2 score is',r2_score(Y,Y20_pred).round(2))"
   ]
  },
  {
   "cell_type": "markdown",
   "id": "605a4062",
   "metadata": {},
   "source": [
    "# DATA PREPROCESSING "
   ]
  },
  {
   "cell_type": "code",
   "execution_count": 28,
   "id": "d2d8610f",
   "metadata": {},
   "outputs": [
    {
     "data": {
      "text/html": [
       "<div>\n",
       "<style scoped>\n",
       "    .dataframe tbody tr th:only-of-type {\n",
       "        vertical-align: middle;\n",
       "    }\n",
       "\n",
       "    .dataframe tbody tr th {\n",
       "        vertical-align: top;\n",
       "    }\n",
       "\n",
       "    .dataframe thead th {\n",
       "        text-align: right;\n",
       "    }\n",
       "</style>\n",
       "<table border=\"1\" class=\"dataframe\">\n",
       "  <thead>\n",
       "    <tr style=\"text-align: right;\">\n",
       "      <th></th>\n",
       "      <th>R&amp;D Spend</th>\n",
       "      <th>Administration</th>\n",
       "      <th>Marketing Spend</th>\n",
       "    </tr>\n",
       "  </thead>\n",
       "  <tbody>\n",
       "    <tr>\n",
       "      <th>0</th>\n",
       "      <td>2.016411</td>\n",
       "      <td>0.560753</td>\n",
       "      <td>2.153943</td>\n",
       "    </tr>\n",
       "    <tr>\n",
       "      <th>1</th>\n",
       "      <td>1.955860</td>\n",
       "      <td>1.082807</td>\n",
       "      <td>1.923600</td>\n",
       "    </tr>\n",
       "    <tr>\n",
       "      <th>2</th>\n",
       "      <td>1.754364</td>\n",
       "      <td>-0.728257</td>\n",
       "      <td>1.626528</td>\n",
       "    </tr>\n",
       "    <tr>\n",
       "      <th>3</th>\n",
       "      <td>1.554784</td>\n",
       "      <td>-0.096365</td>\n",
       "      <td>1.422210</td>\n",
       "    </tr>\n",
       "    <tr>\n",
       "      <th>4</th>\n",
       "      <td>1.504937</td>\n",
       "      <td>-1.079919</td>\n",
       "      <td>1.281528</td>\n",
       "    </tr>\n",
       "  </tbody>\n",
       "</table>\n",
       "</div>"
      ],
      "text/plain": [
       "   R&D Spend  Administration  Marketing Spend\n",
       "0   2.016411        0.560753         2.153943\n",
       "1   1.955860        1.082807         1.923600\n",
       "2   1.754364       -0.728257         1.626528\n",
       "3   1.554784       -0.096365         1.422210\n",
       "4   1.504937       -1.079919         1.281528"
      ]
     },
     "execution_count": 28,
     "metadata": {},
     "output_type": "execute_result"
    }
   ],
   "source": [
    "from sklearn.preprocessing import StandardScaler\n",
    "ss = StandardScaler()\n",
    "ss_x = ss.fit_transform(X)\n",
    "ss_x = pd.DataFrame(ss_x)\n",
    "ss_x.columns = list(X)\n",
    "ss_x.head()"
   ]
  },
  {
   "cell_type": "code",
   "execution_count": 29,
   "id": "fd6e66db",
   "metadata": {},
   "outputs": [
    {
     "data": {
      "text/plain": [
       "((35, 3), (15, 3), (35, 1), (15, 1))"
      ]
     },
     "execution_count": 29,
     "metadata": {},
     "output_type": "execute_result"
    }
   ],
   "source": [
    "# Data Partition\n",
    "from sklearn.model_selection import train_test_split\n",
    "x_train,x_test,y_train,y_test = train_test_split(X,Y,test_size=0.3,random_state=0)\n",
    "x_train.shape,x_test.shape,y_train.shape,y_test.shape"
   ]
  },
  {
   "cell_type": "code",
   "execution_count": 30,
   "id": "e7123bb4",
   "metadata": {},
   "outputs": [
    {
     "data": {
      "text/plain": [
       "LinearRegression()"
      ]
     },
     "execution_count": 30,
     "metadata": {},
     "output_type": "execute_result"
    }
   ],
   "source": [
    "LR.fit(x_train,y_train)"
   ]
  },
  {
   "cell_type": "code",
   "execution_count": 31,
   "id": "062fd992",
   "metadata": {},
   "outputs": [],
   "source": [
    "y_pred_train = LR.predict(x_train)\n",
    "y_pred_test = LR.predict(x_test)"
   ]
  },
  {
   "cell_type": "code",
   "execution_count": 32,
   "id": "5973c24d",
   "metadata": {},
   "outputs": [
    {
     "name": "stdout",
     "output_type": "stream",
     "text": [
      "mean_squared_error of train is: 89657314.14918499\n",
      "mean_squared_error of test is: 62240269.84291537\n"
     ]
    }
   ],
   "source": [
    "from sklearn.metrics import mean_squared_error\n",
    "mse1 = mean_squared_error(y_train,y_pred_train)\n",
    "mse2 = mean_squared_error(y_test,y_pred_test)\n",
    "print('mean_squared_error of train is:',mse1)\n",
    "print('mean_squared_error of test is:',mse2)"
   ]
  },
  {
   "cell_type": "code",
   "execution_count": 33,
   "id": "d2a6d665",
   "metadata": {},
   "outputs": [
    {
     "name": "stdout",
     "output_type": "stream",
     "text": [
      "training error is: 9468.754625038342\n",
      "test error is: 7889.250271281509\n"
     ]
    }
   ],
   "source": [
    "import numpy as np\n",
    "training_error = np.sqrt(mse1)\n",
    "test_error = np.sqrt(mse2)\n",
    "print('training error is:',training_error)\n",
    "print('test error is:',test_error)"
   ]
  },
  {
   "cell_type": "code",
   "execution_count": 34,
   "id": "bcaf0744",
   "metadata": {},
   "outputs": [
    {
     "name": "stdout",
     "output_type": "stream",
     "text": [
      "8740.145632895381\n",
      "9296.531644471484\n"
     ]
    }
   ],
   "source": [
    "train_error = []\n",
    "test_error = []\n",
    "for i in range(0,500):\n",
    "    x_train,x_test,y_train,y_test = train_test_split(ss_x,Y,test_size=0.2,random_state=(i))\n",
    "    LR.fit(x_train,y_train)\n",
    "    y_pred_train = LR.predict(x_train)\n",
    "    y_pred_test = LR.predict(x_test)\n",
    "    train_error.append(np.sqrt(mean_squared_error(y_train,y_pred_train)))\n",
    "    test_error.append(np.sqrt(mean_squared_error(y_test,y_pred_test)))\n",
    "    \n",
    "print(np.mean(train_error))\n",
    "print(np.mean(test_error))"
   ]
  },
  {
   "cell_type": "markdown",
   "id": "90636cee",
   "metadata": {},
   "source": [
    "# Model Validation Techniques"
   ]
  },
  {
   "cell_type": "code",
   "execution_count": 35,
   "id": "4c96941c",
   "metadata": {},
   "outputs": [
    {
     "data": {
      "text/plain": [
       "Ridge(alpha=2.0)"
      ]
     },
     "execution_count": 35,
     "metadata": {},
     "output_type": "execute_result"
    }
   ],
   "source": [
    "#Ridge Regression\n",
    "from sklearn.linear_model import Ridge\n",
    "rr = Ridge(alpha=2.0)\n",
    "rr.fit(x_train,y_train)"
   ]
  },
  {
   "cell_type": "code",
   "execution_count": 36,
   "id": "e26f0c0b",
   "metadata": {},
   "outputs": [
    {
     "name": "stdout",
     "output_type": "stream",
     "text": [
      "Training error is 9070.71\n",
      "Test error is 9521.11\n",
      "Training error is: 9070.714055947148\n",
      "Test error is: 9521.109925118388\n"
     ]
    },
    {
     "data": {
      "text/html": [
       "<div>\n",
       "<style scoped>\n",
       "    .dataframe tbody tr th:only-of-type {\n",
       "        vertical-align: middle;\n",
       "    }\n",
       "\n",
       "    .dataframe tbody tr th {\n",
       "        vertical-align: top;\n",
       "    }\n",
       "\n",
       "    .dataframe thead th {\n",
       "        text-align: right;\n",
       "    }\n",
       "</style>\n",
       "<table border=\"1\" class=\"dataframe\">\n",
       "  <thead>\n",
       "    <tr style=\"text-align: right;\">\n",
       "      <th></th>\n",
       "      <th>0</th>\n",
       "      <th>0</th>\n",
       "      <th>1</th>\n",
       "      <th>2</th>\n",
       "    </tr>\n",
       "  </thead>\n",
       "  <tbody>\n",
       "    <tr>\n",
       "      <th>0</th>\n",
       "      <td>R&amp;D Spend</td>\n",
       "      <td>32998.537888</td>\n",
       "      <td>-226.834164</td>\n",
       "      <td>5804.8524</td>\n",
       "    </tr>\n",
       "    <tr>\n",
       "      <th>1</th>\n",
       "      <td>Administration</td>\n",
       "      <td>NaN</td>\n",
       "      <td>NaN</td>\n",
       "      <td>NaN</td>\n",
       "    </tr>\n",
       "    <tr>\n",
       "      <th>2</th>\n",
       "      <td>Marketing Spend</td>\n",
       "      <td>NaN</td>\n",
       "      <td>NaN</td>\n",
       "      <td>NaN</td>\n",
       "    </tr>\n",
       "  </tbody>\n",
       "</table>\n",
       "</div>"
      ],
      "text/plain": [
       "                 0             0           1          2\n",
       "0        R&D Spend  32998.537888 -226.834164  5804.8524\n",
       "1   Administration           NaN         NaN        NaN\n",
       "2  Marketing Spend           NaN         NaN        NaN"
      ]
     },
     "execution_count": 36,
     "metadata": {},
     "output_type": "execute_result"
    }
   ],
   "source": [
    "y_pred_train = rr.predict(x_train)\n",
    "y_pred_test = rr.predict(x_test)\n",
    "training_error = np.sqrt(mean_squared_error(y_train,y_pred_train))\n",
    "test_error = np.sqrt(mean_squared_error(y_test,y_pred_test))\n",
    "print('Training error is',training_error.round(2))\n",
    "print('Test error is',test_error.round(2))\n",
    "l1 = pd.DataFrame(rr.coef_)\n",
    "l2 = pd.DataFrame(list(X))\n",
    "l = pd.concat([l2,l1],axis=1)\n",
    "print('Training error is:',np.mean(training_error))\n",
    "print('Test error is:',np.mean(test_error))\n",
    "l"
   ]
  },
  {
   "cell_type": "code",
   "execution_count": 37,
   "id": "39ae2823",
   "metadata": {},
   "outputs": [
    {
     "data": {
      "text/plain": [
       "Lasso(alpha=10)"
      ]
     },
     "execution_count": 37,
     "metadata": {},
     "output_type": "execute_result"
    }
   ],
   "source": [
    "#Lasso regression\n",
    "from sklearn.linear_model import Lasso\n",
    "lss = Lasso(alpha=10)\n",
    "lss.fit(ss_x,Y)"
   ]
  },
  {
   "cell_type": "code",
   "execution_count": 38,
   "id": "14bef3e7",
   "metadata": {},
   "outputs": [
    {
     "name": "stdout",
     "output_type": "stream",
     "text": [
      "RMSE is 8855.36\n"
     ]
    },
    {
     "data": {
      "text/html": [
       "<div>\n",
       "<style scoped>\n",
       "    .dataframe tbody tr th:only-of-type {\n",
       "        vertical-align: middle;\n",
       "    }\n",
       "\n",
       "    .dataframe tbody tr th {\n",
       "        vertical-align: top;\n",
       "    }\n",
       "\n",
       "    .dataframe thead th {\n",
       "        text-align: right;\n",
       "    }\n",
       "</style>\n",
       "<table border=\"1\" class=\"dataframe\">\n",
       "  <thead>\n",
       "    <tr style=\"text-align: right;\">\n",
       "      <th></th>\n",
       "      <th>0</th>\n",
       "      <th>0</th>\n",
       "    </tr>\n",
       "  </thead>\n",
       "  <tbody>\n",
       "    <tr>\n",
       "      <th>0</th>\n",
       "      <td>R&amp;D Spend</td>\n",
       "      <td>36604.025288</td>\n",
       "    </tr>\n",
       "    <tr>\n",
       "      <th>1</th>\n",
       "      <td>Administration</td>\n",
       "      <td>-731.928349</td>\n",
       "    </tr>\n",
       "    <tr>\n",
       "      <th>2</th>\n",
       "      <td>Marketing Spend</td>\n",
       "      <td>3292.730681</td>\n",
       "    </tr>\n",
       "  </tbody>\n",
       "</table>\n",
       "</div>"
      ],
      "text/plain": [
       "                 0             0\n",
       "0        R&D Spend  36604.025288\n",
       "1   Administration   -731.928349\n",
       "2  Marketing Spend   3292.730681"
      ]
     },
     "execution_count": 38,
     "metadata": {},
     "output_type": "execute_result"
    }
   ],
   "source": [
    "Y_pred = lss.predict(ss_x)\n",
    "mse = mean_squared_error(Y,Y_pred)\n",
    "print('RMSE is',(np.sqrt(mse).round(2)))\n",
    "l1 = pd.DataFrame(lss.coef_)\n",
    "l2 = pd.DataFrame(list(ss_x))\n",
    "l = pd.concat([l2,l1],axis=1)\n",
    "l"
   ]
  },
  {
   "cell_type": "markdown",
   "id": "d5263031",
   "metadata": {},
   "source": [
    "# LOOCV --> LEAVE ONE OUT CROSS VALIDATION"
   ]
  },
  {
   "cell_type": "code",
   "execution_count": 39,
   "id": "fbe0a5f8",
   "metadata": {},
   "outputs": [
    {
     "name": "stdout",
     "output_type": "stream",
     "text": [
      "[1 2 3 4 5 6]\n",
      "[0]\n",
      "[0 2 3 4 5 6]\n",
      "[1]\n",
      "[0 1 3 4 5 6]\n",
      "[2]\n",
      "[0 1 2 4 5 6]\n",
      "[3]\n",
      "[0 1 2 3 5 6]\n",
      "[4]\n",
      "[0 1 2 3 4 6]\n",
      "[5]\n",
      "[0 1 2 3 4 5]\n",
      "[6]\n"
     ]
    }
   ],
   "source": [
    "from sklearn.model_selection import LeaveOneOut\n",
    "loo = LeaveOneOut()\n",
    "t1 = [0, 1, 2, 3, 4, 5, 6]\n",
    "for train_index, test_index in loo.split(t1):\n",
    "    print(train_index)\n",
    "    print(test_index)"
   ]
  },
  {
   "cell_type": "code",
   "execution_count": 42,
   "id": "3e220ac9",
   "metadata": {},
   "outputs": [
    {
     "name": "stdout",
     "output_type": "stream",
     "text": [
      "training error is 8844.516571734322\n",
      "test error is 7056.765292508566\n"
     ]
    }
   ],
   "source": [
    "train_error = []\n",
    "test_error = []\n",
    "for train_index, test_index in loo.split(df1):\n",
    "    x_train, x_test = ss_x.iloc[train_index], ss_x.iloc[test_index]\n",
    "    y_train, y_test = Y.iloc[train_index], Y.iloc[test_index]\n",
    "    LR.fit(x_train,y_train)\n",
    "    y_pred_train = LR.predict(x_train)\n",
    "    y_pred_test = LR.predict(x_test)\n",
    "    train_error.append(np.sqrt(mean_squared_error(y_train,y_pred_train)))\n",
    "    test_error.append(np.sqrt(mean_squared_error(y_test,y_pred_test)))\n",
    "    \n",
    "print('training error is',np.mean(train_error))\n",
    "print('test error is',np.mean(test_error))"
   ]
  },
  {
   "cell_type": "markdown",
   "id": "12553038",
   "metadata": {},
   "source": [
    "# K FOLD CROSS VALIDATION METHOD"
   ]
  },
  {
   "cell_type": "code",
   "execution_count": 46,
   "id": "4507e269",
   "metadata": {},
   "outputs": [
    {
     "name": "stdout",
     "output_type": "stream",
     "text": [
      "Training Error is 8719.912242989352\n",
      "Test Error is 9073.398417786299\n"
     ]
    }
   ],
   "source": [
    "from sklearn.model_selection import KFold\n",
    "kf = KFold(n_splits=5)\n",
    "\n",
    "train_error = []\n",
    "test_error = []\n",
    "for train_index,test_index in kf.split(df1):\n",
    "    x_train, x_test = ss_x.iloc[train_index], ss_x.iloc[test_index]\n",
    "    y_train, y_test = Y.iloc[train_index], Y.iloc[test_index]\n",
    "    LR.fit(x_train,y_train)\n",
    "    y_pred_train = LR.predict(x_train)\n",
    "    y_pred_test = LR.predict(x_test)\n",
    "    train_error.append(np.sqrt(mean_squared_error(y_train,y_pred_train)))\n",
    "    test_error.append(np.sqrt(mean_squared_error(y_test,y_pred_test)))\n",
    "    \n",
    "print('Training Error is',np.mean(train_error))\n",
    "print('Test Error is',np.mean(test_error))"
   ]
  },
  {
   "cell_type": "markdown",
   "id": "39e5754a",
   "metadata": {},
   "source": [
    "# From the above model validation techniques, leave one out cross validation method is suggestable than the other.\n",
    "# Whereas, in the X models X3 and X4 are better than the rest as the no.of variables increases the rmse increases."
   ]
  },
  {
   "cell_type": "code",
   "execution_count": null,
   "id": "0368ba40",
   "metadata": {},
   "outputs": [],
   "source": []
  }
 ],
 "metadata": {
  "kernelspec": {
   "display_name": "Python 3 (ipykernel)",
   "language": "python",
   "name": "python3"
  },
  "language_info": {
   "codemirror_mode": {
    "name": "ipython",
    "version": 3
   },
   "file_extension": ".py",
   "mimetype": "text/x-python",
   "name": "python",
   "nbconvert_exporter": "python",
   "pygments_lexer": "ipython3",
   "version": "3.9.13"
  }
 },
 "nbformat": 4,
 "nbformat_minor": 5
}

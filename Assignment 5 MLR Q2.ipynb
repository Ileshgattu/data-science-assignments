{
 "cells": [
  {
   "cell_type": "markdown",
   "id": "a85f913f",
   "metadata": {},
   "source": [
    "# Consider only the below columns and prepare a prediction model for predicting Price.\n",
    "\n",
    "# Corolla<-Corolla[c(\"Price\",\"Age_08_04\",\"KM\",\"HP\",\"cc\",\"Doors\",\"Gears\",\"Quarterly_Tax\",\"Weight\")]\n",
    "\n",
    " \n",
    "\n",
    "# Model -- model of the car\n",
    "# Price  -- Offer Price in EUROs\t\n",
    "# Age_08_04 -- Age in months as in August 2004\t\n",
    "# Mfg_Month -- Manufacturing month (1-12)\t\n",
    "# Mfg_Year\t-- Manufacturing Year\n",
    "# KM -- Accumulated Kilometers on odometer\n",
    "# Fuel_Type\t -- Fuel Type (Petrol, Diesel, CNG)\n",
    "# HP -- Horse Power\n",
    "# Met_Color\t -- Metallic Color?  (Yes=1, No=0)\n",
    "# Color -- Color (Blue, Red, Grey, Silver, Black, etc.)\n",
    "# Automatic\t-- Automatic ( (Yes=1, No=0)\n",
    "# cc -- Cylinder Volume in cubic centimeters\n",
    "# Doors -- Number of doors\n",
    "# Cylinders\t-- Number of cylinders\n",
    "# Gears -- Number of gear positions\n",
    "# Quarterly_Tax -- Quarterly road tax in EUROs\n",
    "# Weight -- Weight in Kilograms\n",
    "# Mfr_Guarantee -- Within Manufacturer's Guarantee period  (Yes=1, No=0)\n",
    "# BOVAG_Guarantee -- BOVAG (Dutch dealer network) Guarantee  (Yes=1, No=0)\n",
    "# Guarantee_Period -- \tGuarantee period in months\n",
    "# ABS -- Anti-Lock Brake System (Yes=1, No=0)\n",
    "# Airbag_1 -- Driver_Airbag  (Yes=1, No=0)\n",
    "# Airbag_2 -- Passenger Airbag  (Yes=1, No=0)\n",
    "# Airco -- Airconditioning  (Yes=1, No=0)\n",
    "# Automatic_airco -- Automatic Airconditioning  (Yes=1, No=0)\n",
    "# Boardcomputer -- Boardcomputer  (Yes=1, No=0)\n",
    "# CD_Player -- CD Player  (Yes=1, No=0)\n",
    "# Central_Lock -- Central Lock  (Yes=1, No=0)\n",
    "# Powered_Windows -- Powered Windows  (Yes=1, No=0)\n",
    "# Power_Steering -- Power Steering  (Yes=1, No=0)\n",
    "# Radio -- Radio  (Yes=1, No=0)\n",
    "# Mistlamps\t-- Mistlamps  (Yes=1, No=0)\n",
    "# Sport_Model -- Sport Model  (Yes=1, No=0)\n",
    "# Backseat_Divider -- Backseat Divider  (Yes=1, No=0)\n",
    "# Metallic_Rim --Metallic Rim  (Yes=1, No=0)\n",
    "# Radio_cassette -- Radio Cassette  (Yes=1, No=0)\n",
    "# Tow_Bar -- Tow Bar  (Yes=1, No=0)"
   ]
  },
  {
   "cell_type": "code",
   "execution_count": 1,
   "id": "a629337c",
   "metadata": {},
   "outputs": [
    {
     "data": {
      "text/html": [
       "<div>\n",
       "<style scoped>\n",
       "    .dataframe tbody tr th:only-of-type {\n",
       "        vertical-align: middle;\n",
       "    }\n",
       "\n",
       "    .dataframe tbody tr th {\n",
       "        vertical-align: top;\n",
       "    }\n",
       "\n",
       "    .dataframe thead th {\n",
       "        text-align: right;\n",
       "    }\n",
       "</style>\n",
       "<table border=\"1\" class=\"dataframe\">\n",
       "  <thead>\n",
       "    <tr style=\"text-align: right;\">\n",
       "      <th></th>\n",
       "      <th>Id</th>\n",
       "      <th>Model</th>\n",
       "      <th>Price</th>\n",
       "      <th>Age_08_04</th>\n",
       "      <th>Mfg_Month</th>\n",
       "      <th>Mfg_Year</th>\n",
       "      <th>KM</th>\n",
       "      <th>Fuel_Type</th>\n",
       "      <th>HP</th>\n",
       "      <th>Met_Color</th>\n",
       "      <th>...</th>\n",
       "      <th>Central_Lock</th>\n",
       "      <th>Powered_Windows</th>\n",
       "      <th>Power_Steering</th>\n",
       "      <th>Radio</th>\n",
       "      <th>Mistlamps</th>\n",
       "      <th>Sport_Model</th>\n",
       "      <th>Backseat_Divider</th>\n",
       "      <th>Metallic_Rim</th>\n",
       "      <th>Radio_cassette</th>\n",
       "      <th>Tow_Bar</th>\n",
       "    </tr>\n",
       "  </thead>\n",
       "  <tbody>\n",
       "    <tr>\n",
       "      <th>0</th>\n",
       "      <td>1</td>\n",
       "      <td>TOYOTA Corolla 2.0 D4D HATCHB TERRA 2/3-Doors</td>\n",
       "      <td>13500</td>\n",
       "      <td>23</td>\n",
       "      <td>10</td>\n",
       "      <td>2002</td>\n",
       "      <td>46986</td>\n",
       "      <td>Diesel</td>\n",
       "      <td>90</td>\n",
       "      <td>1</td>\n",
       "      <td>...</td>\n",
       "      <td>1</td>\n",
       "      <td>1</td>\n",
       "      <td>1</td>\n",
       "      <td>0</td>\n",
       "      <td>0</td>\n",
       "      <td>0</td>\n",
       "      <td>1</td>\n",
       "      <td>0</td>\n",
       "      <td>0</td>\n",
       "      <td>0</td>\n",
       "    </tr>\n",
       "    <tr>\n",
       "      <th>1</th>\n",
       "      <td>2</td>\n",
       "      <td>TOYOTA Corolla 2.0 D4D HATCHB TERRA 2/3-Doors</td>\n",
       "      <td>13750</td>\n",
       "      <td>23</td>\n",
       "      <td>10</td>\n",
       "      <td>2002</td>\n",
       "      <td>72937</td>\n",
       "      <td>Diesel</td>\n",
       "      <td>90</td>\n",
       "      <td>1</td>\n",
       "      <td>...</td>\n",
       "      <td>1</td>\n",
       "      <td>0</td>\n",
       "      <td>1</td>\n",
       "      <td>0</td>\n",
       "      <td>0</td>\n",
       "      <td>0</td>\n",
       "      <td>1</td>\n",
       "      <td>0</td>\n",
       "      <td>0</td>\n",
       "      <td>0</td>\n",
       "    </tr>\n",
       "    <tr>\n",
       "      <th>2</th>\n",
       "      <td>3</td>\n",
       "      <td>TOYOTA Corolla 2.0 D4D HATCHB TERRA 2/3-Doors</td>\n",
       "      <td>13950</td>\n",
       "      <td>24</td>\n",
       "      <td>9</td>\n",
       "      <td>2002</td>\n",
       "      <td>41711</td>\n",
       "      <td>Diesel</td>\n",
       "      <td>90</td>\n",
       "      <td>1</td>\n",
       "      <td>...</td>\n",
       "      <td>0</td>\n",
       "      <td>0</td>\n",
       "      <td>1</td>\n",
       "      <td>0</td>\n",
       "      <td>0</td>\n",
       "      <td>0</td>\n",
       "      <td>1</td>\n",
       "      <td>0</td>\n",
       "      <td>0</td>\n",
       "      <td>0</td>\n",
       "    </tr>\n",
       "    <tr>\n",
       "      <th>3</th>\n",
       "      <td>4</td>\n",
       "      <td>TOYOTA Corolla 2.0 D4D HATCHB TERRA 2/3-Doors</td>\n",
       "      <td>14950</td>\n",
       "      <td>26</td>\n",
       "      <td>7</td>\n",
       "      <td>2002</td>\n",
       "      <td>48000</td>\n",
       "      <td>Diesel</td>\n",
       "      <td>90</td>\n",
       "      <td>0</td>\n",
       "      <td>...</td>\n",
       "      <td>0</td>\n",
       "      <td>0</td>\n",
       "      <td>1</td>\n",
       "      <td>0</td>\n",
       "      <td>0</td>\n",
       "      <td>0</td>\n",
       "      <td>1</td>\n",
       "      <td>0</td>\n",
       "      <td>0</td>\n",
       "      <td>0</td>\n",
       "    </tr>\n",
       "    <tr>\n",
       "      <th>4</th>\n",
       "      <td>5</td>\n",
       "      <td>TOYOTA Corolla 2.0 D4D HATCHB SOL 2/3-Doors</td>\n",
       "      <td>13750</td>\n",
       "      <td>30</td>\n",
       "      <td>3</td>\n",
       "      <td>2002</td>\n",
       "      <td>38500</td>\n",
       "      <td>Diesel</td>\n",
       "      <td>90</td>\n",
       "      <td>0</td>\n",
       "      <td>...</td>\n",
       "      <td>1</td>\n",
       "      <td>1</td>\n",
       "      <td>1</td>\n",
       "      <td>0</td>\n",
       "      <td>1</td>\n",
       "      <td>0</td>\n",
       "      <td>1</td>\n",
       "      <td>0</td>\n",
       "      <td>0</td>\n",
       "      <td>0</td>\n",
       "    </tr>\n",
       "  </tbody>\n",
       "</table>\n",
       "<p>5 rows × 38 columns</p>\n",
       "</div>"
      ],
      "text/plain": [
       "   Id                                           Model  Price  Age_08_04  \\\n",
       "0   1   TOYOTA Corolla 2.0 D4D HATCHB TERRA 2/3-Doors  13500         23   \n",
       "1   2   TOYOTA Corolla 2.0 D4D HATCHB TERRA 2/3-Doors  13750         23   \n",
       "2   3   TOYOTA Corolla 2.0 D4D HATCHB TERRA 2/3-Doors  13950         24   \n",
       "3   4   TOYOTA Corolla 2.0 D4D HATCHB TERRA 2/3-Doors  14950         26   \n",
       "4   5     TOYOTA Corolla 2.0 D4D HATCHB SOL 2/3-Doors  13750         30   \n",
       "\n",
       "   Mfg_Month  Mfg_Year     KM Fuel_Type  HP  Met_Color  ... Central_Lock  \\\n",
       "0         10      2002  46986    Diesel  90          1  ...            1   \n",
       "1         10      2002  72937    Diesel  90          1  ...            1   \n",
       "2          9      2002  41711    Diesel  90          1  ...            0   \n",
       "3          7      2002  48000    Diesel  90          0  ...            0   \n",
       "4          3      2002  38500    Diesel  90          0  ...            1   \n",
       "\n",
       "   Powered_Windows  Power_Steering  Radio  Mistlamps  Sport_Model  \\\n",
       "0                1               1      0          0            0   \n",
       "1                0               1      0          0            0   \n",
       "2                0               1      0          0            0   \n",
       "3                0               1      0          0            0   \n",
       "4                1               1      0          1            0   \n",
       "\n",
       "   Backseat_Divider  Metallic_Rim  Radio_cassette  Tow_Bar  \n",
       "0                 1             0               0        0  \n",
       "1                 1             0               0        0  \n",
       "2                 1             0               0        0  \n",
       "3                 1             0               0        0  \n",
       "4                 1             0               0        0  \n",
       "\n",
       "[5 rows x 38 columns]"
      ]
     },
     "execution_count": 1,
     "metadata": {},
     "output_type": "execute_result"
    }
   ],
   "source": [
    "import pandas as pd\n",
    "df = pd.read_csv('ToyotaCorolla.csv',encoding='latin1')\n",
    "df.head()"
   ]
  },
  {
   "cell_type": "code",
   "execution_count": 4,
   "id": "c4a16072",
   "metadata": {},
   "outputs": [
    {
     "data": {
      "text/html": [
       "<div>\n",
       "<style scoped>\n",
       "    .dataframe tbody tr th:only-of-type {\n",
       "        vertical-align: middle;\n",
       "    }\n",
       "\n",
       "    .dataframe tbody tr th {\n",
       "        vertical-align: top;\n",
       "    }\n",
       "\n",
       "    .dataframe thead th {\n",
       "        text-align: right;\n",
       "    }\n",
       "</style>\n",
       "<table border=\"1\" class=\"dataframe\">\n",
       "  <thead>\n",
       "    <tr style=\"text-align: right;\">\n",
       "      <th></th>\n",
       "      <th>Price</th>\n",
       "      <th>Age_08_04</th>\n",
       "      <th>KM</th>\n",
       "      <th>HP</th>\n",
       "      <th>cc</th>\n",
       "      <th>Doors</th>\n",
       "      <th>Gears</th>\n",
       "      <th>Quarterly_Tax</th>\n",
       "      <th>Weight</th>\n",
       "    </tr>\n",
       "  </thead>\n",
       "  <tbody>\n",
       "    <tr>\n",
       "      <th>0</th>\n",
       "      <td>13500</td>\n",
       "      <td>23</td>\n",
       "      <td>46986</td>\n",
       "      <td>90</td>\n",
       "      <td>2000</td>\n",
       "      <td>3</td>\n",
       "      <td>5</td>\n",
       "      <td>210</td>\n",
       "      <td>1165</td>\n",
       "    </tr>\n",
       "    <tr>\n",
       "      <th>1</th>\n",
       "      <td>13750</td>\n",
       "      <td>23</td>\n",
       "      <td>72937</td>\n",
       "      <td>90</td>\n",
       "      <td>2000</td>\n",
       "      <td>3</td>\n",
       "      <td>5</td>\n",
       "      <td>210</td>\n",
       "      <td>1165</td>\n",
       "    </tr>\n",
       "    <tr>\n",
       "      <th>2</th>\n",
       "      <td>13950</td>\n",
       "      <td>24</td>\n",
       "      <td>41711</td>\n",
       "      <td>90</td>\n",
       "      <td>2000</td>\n",
       "      <td>3</td>\n",
       "      <td>5</td>\n",
       "      <td>210</td>\n",
       "      <td>1165</td>\n",
       "    </tr>\n",
       "    <tr>\n",
       "      <th>3</th>\n",
       "      <td>14950</td>\n",
       "      <td>26</td>\n",
       "      <td>48000</td>\n",
       "      <td>90</td>\n",
       "      <td>2000</td>\n",
       "      <td>3</td>\n",
       "      <td>5</td>\n",
       "      <td>210</td>\n",
       "      <td>1165</td>\n",
       "    </tr>\n",
       "    <tr>\n",
       "      <th>4</th>\n",
       "      <td>13750</td>\n",
       "      <td>30</td>\n",
       "      <td>38500</td>\n",
       "      <td>90</td>\n",
       "      <td>2000</td>\n",
       "      <td>3</td>\n",
       "      <td>5</td>\n",
       "      <td>210</td>\n",
       "      <td>1170</td>\n",
       "    </tr>\n",
       "  </tbody>\n",
       "</table>\n",
       "</div>"
      ],
      "text/plain": [
       "   Price  Age_08_04     KM  HP    cc  Doors  Gears  Quarterly_Tax  Weight\n",
       "0  13500         23  46986  90  2000      3      5            210    1165\n",
       "1  13750         23  72937  90  2000      3      5            210    1165\n",
       "2  13950         24  41711  90  2000      3      5            210    1165\n",
       "3  14950         26  48000  90  2000      3      5            210    1165\n",
       "4  13750         30  38500  90  2000      3      5            210    1170"
      ]
     },
     "execution_count": 4,
     "metadata": {},
     "output_type": "execute_result"
    }
   ],
   "source": [
    "df = df[[\"Price\",\"Age_08_04\",\"KM\",\"HP\",\"cc\",\"Doors\",\"Gears\",\"Quarterly_Tax\",\"Weight\"]]\n",
    "df.head()"
   ]
  },
  {
   "cell_type": "code",
   "execution_count": 6,
   "id": "80c8522d",
   "metadata": {},
   "outputs": [
    {
     "data": {
      "text/html": [
       "<div>\n",
       "<style scoped>\n",
       "    .dataframe tbody tr th:only-of-type {\n",
       "        vertical-align: middle;\n",
       "    }\n",
       "\n",
       "    .dataframe tbody tr th {\n",
       "        vertical-align: top;\n",
       "    }\n",
       "\n",
       "    .dataframe thead th {\n",
       "        text-align: right;\n",
       "    }\n",
       "</style>\n",
       "<table border=\"1\" class=\"dataframe\">\n",
       "  <thead>\n",
       "    <tr style=\"text-align: right;\">\n",
       "      <th></th>\n",
       "      <th>Price</th>\n",
       "      <th>Age_08_04</th>\n",
       "      <th>KM</th>\n",
       "      <th>HP</th>\n",
       "      <th>cc</th>\n",
       "      <th>Doors</th>\n",
       "      <th>Gears</th>\n",
       "      <th>Quarterly_Tax</th>\n",
       "      <th>Weight</th>\n",
       "    </tr>\n",
       "  </thead>\n",
       "  <tbody>\n",
       "    <tr>\n",
       "      <th>Price</th>\n",
       "      <td>1.000000</td>\n",
       "      <td>-0.876590</td>\n",
       "      <td>-0.569960</td>\n",
       "      <td>0.314990</td>\n",
       "      <td>0.126389</td>\n",
       "      <td>0.185326</td>\n",
       "      <td>0.063104</td>\n",
       "      <td>0.219197</td>\n",
       "      <td>0.581198</td>\n",
       "    </tr>\n",
       "    <tr>\n",
       "      <th>Age_08_04</th>\n",
       "      <td>-0.876590</td>\n",
       "      <td>1.000000</td>\n",
       "      <td>0.505672</td>\n",
       "      <td>-0.156622</td>\n",
       "      <td>-0.098084</td>\n",
       "      <td>-0.148359</td>\n",
       "      <td>-0.005364</td>\n",
       "      <td>-0.198431</td>\n",
       "      <td>-0.470253</td>\n",
       "    </tr>\n",
       "    <tr>\n",
       "      <th>KM</th>\n",
       "      <td>-0.569960</td>\n",
       "      <td>0.505672</td>\n",
       "      <td>1.000000</td>\n",
       "      <td>-0.333538</td>\n",
       "      <td>0.102683</td>\n",
       "      <td>-0.036197</td>\n",
       "      <td>0.015023</td>\n",
       "      <td>0.278165</td>\n",
       "      <td>-0.028598</td>\n",
       "    </tr>\n",
       "    <tr>\n",
       "      <th>HP</th>\n",
       "      <td>0.314990</td>\n",
       "      <td>-0.156622</td>\n",
       "      <td>-0.333538</td>\n",
       "      <td>1.000000</td>\n",
       "      <td>0.035856</td>\n",
       "      <td>0.092424</td>\n",
       "      <td>0.209477</td>\n",
       "      <td>-0.298432</td>\n",
       "      <td>0.089614</td>\n",
       "    </tr>\n",
       "    <tr>\n",
       "      <th>cc</th>\n",
       "      <td>0.126389</td>\n",
       "      <td>-0.098084</td>\n",
       "      <td>0.102683</td>\n",
       "      <td>0.035856</td>\n",
       "      <td>1.000000</td>\n",
       "      <td>0.079903</td>\n",
       "      <td>0.014629</td>\n",
       "      <td>0.306996</td>\n",
       "      <td>0.335637</td>\n",
       "    </tr>\n",
       "    <tr>\n",
       "      <th>Doors</th>\n",
       "      <td>0.185326</td>\n",
       "      <td>-0.148359</td>\n",
       "      <td>-0.036197</td>\n",
       "      <td>0.092424</td>\n",
       "      <td>0.079903</td>\n",
       "      <td>1.000000</td>\n",
       "      <td>-0.160141</td>\n",
       "      <td>0.109363</td>\n",
       "      <td>0.302618</td>\n",
       "    </tr>\n",
       "    <tr>\n",
       "      <th>Gears</th>\n",
       "      <td>0.063104</td>\n",
       "      <td>-0.005364</td>\n",
       "      <td>0.015023</td>\n",
       "      <td>0.209477</td>\n",
       "      <td>0.014629</td>\n",
       "      <td>-0.160141</td>\n",
       "      <td>1.000000</td>\n",
       "      <td>-0.005452</td>\n",
       "      <td>0.020613</td>\n",
       "    </tr>\n",
       "    <tr>\n",
       "      <th>Quarterly_Tax</th>\n",
       "      <td>0.219197</td>\n",
       "      <td>-0.198431</td>\n",
       "      <td>0.278165</td>\n",
       "      <td>-0.298432</td>\n",
       "      <td>0.306996</td>\n",
       "      <td>0.109363</td>\n",
       "      <td>-0.005452</td>\n",
       "      <td>1.000000</td>\n",
       "      <td>0.626134</td>\n",
       "    </tr>\n",
       "    <tr>\n",
       "      <th>Weight</th>\n",
       "      <td>0.581198</td>\n",
       "      <td>-0.470253</td>\n",
       "      <td>-0.028598</td>\n",
       "      <td>0.089614</td>\n",
       "      <td>0.335637</td>\n",
       "      <td>0.302618</td>\n",
       "      <td>0.020613</td>\n",
       "      <td>0.626134</td>\n",
       "      <td>1.000000</td>\n",
       "    </tr>\n",
       "  </tbody>\n",
       "</table>\n",
       "</div>"
      ],
      "text/plain": [
       "                  Price  Age_08_04        KM        HP        cc     Doors  \\\n",
       "Price          1.000000  -0.876590 -0.569960  0.314990  0.126389  0.185326   \n",
       "Age_08_04     -0.876590   1.000000  0.505672 -0.156622 -0.098084 -0.148359   \n",
       "KM            -0.569960   0.505672  1.000000 -0.333538  0.102683 -0.036197   \n",
       "HP             0.314990  -0.156622 -0.333538  1.000000  0.035856  0.092424   \n",
       "cc             0.126389  -0.098084  0.102683  0.035856  1.000000  0.079903   \n",
       "Doors          0.185326  -0.148359 -0.036197  0.092424  0.079903  1.000000   \n",
       "Gears          0.063104  -0.005364  0.015023  0.209477  0.014629 -0.160141   \n",
       "Quarterly_Tax  0.219197  -0.198431  0.278165 -0.298432  0.306996  0.109363   \n",
       "Weight         0.581198  -0.470253 -0.028598  0.089614  0.335637  0.302618   \n",
       "\n",
       "                  Gears  Quarterly_Tax    Weight  \n",
       "Price          0.063104       0.219197  0.581198  \n",
       "Age_08_04     -0.005364      -0.198431 -0.470253  \n",
       "KM             0.015023       0.278165 -0.028598  \n",
       "HP             0.209477      -0.298432  0.089614  \n",
       "cc             0.014629       0.306996  0.335637  \n",
       "Doors         -0.160141       0.109363  0.302618  \n",
       "Gears          1.000000      -0.005452  0.020613  \n",
       "Quarterly_Tax -0.005452       1.000000  0.626134  \n",
       "Weight         0.020613       0.626134  1.000000  "
      ]
     },
     "execution_count": 6,
     "metadata": {},
     "output_type": "execute_result"
    }
   ],
   "source": [
    "df.corr()"
   ]
  },
  {
   "cell_type": "code",
   "execution_count": 5,
   "id": "f817e91e",
   "metadata": {},
   "outputs": [
    {
     "data": {
      "text/html": [
       "<div>\n",
       "<style scoped>\n",
       "    .dataframe tbody tr th:only-of-type {\n",
       "        vertical-align: middle;\n",
       "    }\n",
       "\n",
       "    .dataframe tbody tr th {\n",
       "        vertical-align: top;\n",
       "    }\n",
       "\n",
       "    .dataframe thead th {\n",
       "        text-align: right;\n",
       "    }\n",
       "</style>\n",
       "<table border=\"1\" class=\"dataframe\">\n",
       "  <thead>\n",
       "    <tr style=\"text-align: right;\">\n",
       "      <th></th>\n",
       "      <th>Price</th>\n",
       "    </tr>\n",
       "  </thead>\n",
       "  <tbody>\n",
       "    <tr>\n",
       "      <th>0</th>\n",
       "      <td>13500</td>\n",
       "    </tr>\n",
       "    <tr>\n",
       "      <th>1</th>\n",
       "      <td>13750</td>\n",
       "    </tr>\n",
       "    <tr>\n",
       "      <th>2</th>\n",
       "      <td>13950</td>\n",
       "    </tr>\n",
       "    <tr>\n",
       "      <th>3</th>\n",
       "      <td>14950</td>\n",
       "    </tr>\n",
       "    <tr>\n",
       "      <th>4</th>\n",
       "      <td>13750</td>\n",
       "    </tr>\n",
       "  </tbody>\n",
       "</table>\n",
       "</div>"
      ],
      "text/plain": [
       "   Price\n",
       "0  13500\n",
       "1  13750\n",
       "2  13950\n",
       "3  14950\n",
       "4  13750"
      ]
     },
     "execution_count": 5,
     "metadata": {},
     "output_type": "execute_result"
    }
   ],
   "source": [
    "Y = df[['Price']]\n",
    "Y.head()"
   ]
  },
  {
   "cell_type": "code",
   "execution_count": 10,
   "id": "ff06e6ea",
   "metadata": {},
   "outputs": [],
   "source": [
    "import numpy as np\n",
    "X1 = df[['Age_08_04']]\n",
    "X2 = df[['Age_08_04','KM']]\n",
    "X3 = df[['Age_08_04','KM','HP']]\n",
    "X4 = df[['Age_08_04','KM','HP','cc']]\n",
    "X5 = df[['Age_08_04','KM','HP','cc','Doors']]\n",
    "X6 = df[['Age_08_04','KM','HP','cc','Doors','Gears']]\n",
    "X7 = df[['Age_08_04','KM','HP','cc','Doors','Gears','Quarterly_Tax']]\n",
    "X8 = df[['Age_08_04','KM','HP','cc','Doors','Gears','Quarterly_Tax','Weight']]\n",
    "X9 = pow(X1,2)\n",
    "X10 = pow(X1,3)\n",
    "X11 = np.sqrt(X1)\n",
    "X12 = np.cbrt(X1)\n",
    "X13 = pow(X2,2)\n",
    "X14 = pow(X2,3)\n",
    "X15 = np.sqrt(X2)\n",
    "X16 = np.cbrt(X2)\n",
    "X17 = pow(X3,2)\n",
    "X18 = pow(X3,3)\n",
    "X19 = np.sqrt(X3)\n",
    "X20 = np.cbrt(X3)\n",
    "X21 = pow(X4,2)\n",
    "X22 = pow(X4,3)\n",
    "X23 = np.sqrt(X4)\n",
    "X24 = np.cbrt(X4)\n",
    "X25 = pow(X5,2)\n",
    "X26 = pow(X5,3)\n",
    "X27 = np.sqrt(X5)\n",
    "X28 = np.cbrt(X5)\n",
    "X29 = pow(X6,2)\n",
    "X30 = pow(X6,3)\n",
    "X31 = np.sqrt(X6)\n",
    "X32 = np.cbrt(X6)\n",
    "X33 = pow(X7,2)\n",
    "X34 = pow(X7,3)\n",
    "X35 = np.sqrt(X7)\n",
    "X36 = np.cbrt(X7)\n",
    "X37 = pow(X8,2)\n",
    "X38 = pow(X8,3)\n",
    "X39 = np.sqrt(X8)\n",
    "X40 = np.cbrt(X8)"
   ]
  },
  {
   "cell_type": "code",
   "execution_count": 13,
   "id": "4d39246e",
   "metadata": {},
   "outputs": [
    {
     "data": {
      "text/plain": [
       "LinearRegression()"
      ]
     },
     "execution_count": 13,
     "metadata": {},
     "output_type": "execute_result"
    }
   ],
   "source": [
    "from sklearn.linear_model import LinearRegression\n",
    "from sklearn.metrics import mean_squared_error,r2_score\n",
    "LR = LinearRegression()\n",
    "LR.fit(X1,Y)"
   ]
  },
  {
   "cell_type": "code",
   "execution_count": 15,
   "id": "330e8efc",
   "metadata": {},
   "outputs": [
    {
     "name": "stdout",
     "output_type": "stream",
     "text": [
      "Intercept is [20294.05864891]\n",
      "coef is [[-170.93358501]]\n",
      "MSE is 3044403.46\n",
      "RMSE is 1744.82\n",
      "R^2 is 0.77\n"
     ]
    }
   ],
   "source": [
    "Y1_pred = LR.predict(X1)\n",
    "print('Intercept is',LR.intercept_)\n",
    "print('coef is',LR.coef_)\n",
    "print('MSE is',mean_squared_error(Y,Y1_pred).round(2))\n",
    "print('RMSE is',(np.sqrt(mean_squared_error(Y,Y1_pred))).round(2))\n",
    "print('R^2 is',r2_score(Y,Y1_pred).round(2))"
   ]
  },
  {
   "cell_type": "code",
   "execution_count": 16,
   "id": "ab926a01",
   "metadata": {},
   "outputs": [
    {
     "name": "stdout",
     "output_type": "stream",
     "text": [
      "Intercept is [20483.11353361]\n",
      "coef is [[-1.54149180e+02 -1.64605221e-02]]\n",
      "MSE is 2760910.65\n",
      "RMSE is 1661.6\n",
      "R^2 is 0.79\n"
     ]
    }
   ],
   "source": [
    "LR.fit(X2,Y)\n",
    "Y2_pred = LR.predict(X2)\n",
    "print('Intercept is',LR.intercept_)\n",
    "print('coef is',LR.coef_)\n",
    "print('MSE is',mean_squared_error(Y,Y2_pred).round(2))\n",
    "print('RMSE is',(np.sqrt(mean_squared_error(Y,Y2_pred))).round(2))\n",
    "print('R^2 is',r2_score(Y,Y2_pred).round(2))"
   ]
  },
  {
   "cell_type": "code",
   "execution_count": 18,
   "id": "2e63f3f1",
   "metadata": {},
   "outputs": [
    {
     "name": "stdout",
     "output_type": "stream",
     "text": [
      "Intercept is [16450.18878418]\n",
      "coef is [[-1.54626264e+02 -1.14621494e-02  3.66205409e+01]]\n",
      "MSE is 2493659.96\n",
      "RMSE is 1579.13\n",
      "R^2 is 0.81\n"
     ]
    }
   ],
   "source": [
    "LR.fit(X3,Y)\n",
    "Y3_pred = LR.predict(X3)\n",
    "print('Intercept is',LR.intercept_)\n",
    "print('coef is',LR.coef_)\n",
    "print('MSE is',mean_squared_error(Y,Y3_pred).round(2))\n",
    "print('RMSE is',(np.sqrt(mean_squared_error(Y,Y3_pred))).round(2))\n",
    "print('R^2 is',r2_score(Y,Y3_pred).round(2))"
   ]
  },
  {
   "cell_type": "code",
   "execution_count": 19,
   "id": "48e2c65c",
   "metadata": {},
   "outputs": [
    {
     "name": "stdout",
     "output_type": "stream",
     "text": [
      "Intercept is [15745.03350737]\n",
      "coef is [[-1.52329063e+02 -1.27677446e-02  3.54729114e+01  4.96302230e-01]]\n",
      "MSE is 2451398.51\n",
      "RMSE is 1565.69\n",
      "R^2 is 0.81\n"
     ]
    }
   ],
   "source": [
    "LR.fit(X4,Y)\n",
    "Y4_pred = LR.predict(X4)\n",
    "print('Intercept is',LR.intercept_)\n",
    "print('coef is',LR.coef_)\n",
    "print('MSE is',mean_squared_error(Y,Y4_pred).round(2))\n",
    "print('RMSE is',(np.sqrt(mean_squared_error(Y,Y4_pred))).round(2))\n",
    "print('R^2 is',r2_score(Y,Y4_pred).round(2))"
   ]
  },
  {
   "cell_type": "code",
   "execution_count": 20,
   "id": "5fd86e99",
   "metadata": {},
   "outputs": [
    {
     "name": "stdout",
     "output_type": "stream",
     "text": [
      "Intercept is [15081.08990029]\n",
      "coef is [[-1.50776456e+02 -1.31005438e-02  3.44423125e+01  4.74438571e-01\n",
      "   1.83211829e+02]]\n",
      "MSE is 2422001.63\n",
      "RMSE is 1556.28\n",
      "R^2 is 0.82\n"
     ]
    }
   ],
   "source": [
    "LR.fit(X5,Y)\n",
    "Y5_pred = LR.predict(X5)\n",
    "print('Intercept is',LR.intercept_)\n",
    "print('coef is',LR.coef_)\n",
    "print('MSE is',mean_squared_error(Y,Y5_pred).round(2))\n",
    "print('RMSE is',(np.sqrt(mean_squared_error(Y,Y5_pred))).round(2))\n",
    "print('R^2 is',r2_score(Y,Y5_pred).round(2))"
   ]
  },
  {
   "cell_type": "code",
   "execution_count": 21,
   "id": "8d5aa048",
   "metadata": {},
   "outputs": [
    {
     "name": "stdout",
     "output_type": "stream",
     "text": [
      "Intercept is [11204.72359141]\n",
      "coef is [[-1.50338232e+02 -1.35905763e-02  3.18297162e+01  4.73515369e-01\n",
      "   2.13030210e+02  8.02115225e+02]]\n",
      "MSE is 2401129.41\n",
      "RMSE is 1549.56\n",
      "R^2 is 0.82\n"
     ]
    }
   ],
   "source": [
    "LR.fit(X6,Y)\n",
    "Y6_pred = LR.predict(X6)\n",
    "print('Intercept is',LR.intercept_)\n",
    "print('coef is',LR.coef_)\n",
    "print('MSE is',mean_squared_error(Y,Y6_pred).round(2))\n",
    "print('RMSE is',(np.sqrt(mean_squared_error(Y,Y6_pred))).round(2))\n",
    "print('R^2 is',r2_score(Y,Y6_pred).round(2))"
   ]
  },
  {
   "cell_type": "code",
   "execution_count": 22,
   "id": "1ac8fe57",
   "metadata": {},
   "outputs": [
    {
     "name": "stdout",
     "output_type": "stream",
     "text": [
      "Intercept is [11204.72359141]\n",
      "coef is [[-1.50338232e+02 -1.35905763e-02  3.18297162e+01  4.73515369e-01\n",
      "   2.13030210e+02  8.02115225e+02]]\n",
      "MSE is 2401129.41\n",
      "RMSE is 1549.56\n",
      "R^2 is 0.82\n"
     ]
    }
   ],
   "source": [
    "LR.fit(X6,Y)\n",
    "Y6_pred = LR.predict(X6)\n",
    "print('Intercept is',LR.intercept_)\n",
    "print('coef is',LR.coef_)\n",
    "print('MSE is',mean_squared_error(Y,Y6_pred).round(2))\n",
    "print('RMSE is',(np.sqrt(mean_squared_error(Y,Y6_pred))).round(2))\n",
    "print('R^2 is',r2_score(Y,Y6_pred).round(2))"
   ]
  },
  {
   "cell_type": "code",
   "execution_count": 23,
   "id": "c762f49b",
   "metadata": {},
   "outputs": [
    {
     "name": "stdout",
     "output_type": "stream",
     "text": [
      "Intercept is [9980.65868171]\n",
      "coef is [[-1.36385511e+02 -2.00763524e-02  4.35742800e+01  1.06625996e-01\n",
      "   1.57948288e+02  6.20143248e+02  1.61981045e+01]]\n",
      "MSE is 2107415.58\n",
      "RMSE is 1451.69\n",
      "R^2 is 0.84\n"
     ]
    }
   ],
   "source": [
    "LR.fit(X7,Y)\n",
    "Y7_pred = LR.predict(X7)\n",
    "print('Intercept is',LR.intercept_)\n",
    "print('coef is',LR.coef_)\n",
    "print('MSE is',mean_squared_error(Y,Y7_pred).round(2))\n",
    "print('RMSE is',(np.sqrt(mean_squared_error(Y,Y7_pred))).round(2))\n",
    "print('R^2 is',r2_score(Y,Y7_pred).round(2))"
   ]
  },
  {
   "cell_type": "code",
   "execution_count": 24,
   "id": "0a0dfcf5",
   "metadata": {},
   "outputs": [
    {
     "name": "stdout",
     "output_type": "stream",
     "text": [
      "Intercept is [-5573.10635791]\n",
      "coef is [[-1.21658402e+02 -2.08171292e-02  3.16809058e+01 -1.21100301e-01\n",
      "  -1.61664095e+00  5.94319936e+02  3.94908076e+00  1.69586318e+01]]\n",
      "MSE is 1790935.61\n",
      "RMSE is 1338.26\n",
      "R^2 is 0.86\n"
     ]
    }
   ],
   "source": [
    "LR.fit(X8,Y)\n",
    "Y8_pred = LR.predict(X8)\n",
    "print('Intercept is',LR.intercept_)\n",
    "print('coef is',LR.coef_)\n",
    "print('MSE is',mean_squared_error(Y,Y8_pred).round(2))\n",
    "print('RMSE is',(np.sqrt(mean_squared_error(Y,Y8_pred))).round(2))\n",
    "print('R^2 is',r2_score(Y,Y8_pred).round(2))"
   ]
  },
  {
   "cell_type": "code",
   "execution_count": 25,
   "id": "a9bf419a",
   "metadata": {},
   "outputs": [
    {
     "name": "stdout",
     "output_type": "stream",
     "text": [
      "Intercept is [16304.98758203]\n",
      "coef is [[-1.60370933]]\n",
      "MSE is 4478675.13\n",
      "RMSE is 2116.29\n",
      "R^2 is 0.66\n"
     ]
    }
   ],
   "source": [
    "LR.fit(X9,Y)\n",
    "Y9_pred = LR.predict(X9)\n",
    "print('Intercept is',LR.intercept_)\n",
    "print('coef is',LR.coef_)\n",
    "print('MSE is',mean_squared_error(Y,Y9_pred).round(2))\n",
    "print('RMSE is',(np.sqrt(mean_squared_error(Y,Y9_pred))).round(2))\n",
    "print('R^2 is',r2_score(Y,Y9_pred).round(2))"
   ]
  },
  {
   "cell_type": "code",
   "execution_count": 26,
   "id": "efcb0303",
   "metadata": {},
   "outputs": [
    {
     "name": "stdout",
     "output_type": "stream",
     "text": [
      "Intercept is [14714.4640929]\n",
      "coef is [[-0.01748469]]\n",
      "MSE is 5790681.83\n",
      "RMSE is 2406.38\n",
      "R^2 is 0.56\n"
     ]
    }
   ],
   "source": [
    "LR.fit(X10,Y)\n",
    "Y10_pred = LR.predict(X10)\n",
    "print('Intercept is',LR.intercept_)\n",
    "print('coef is',LR.coef_)\n",
    "print('MSE is',mean_squared_error(Y,Y10_pred).round(2))\n",
    "print('RMSE is',(np.sqrt(mean_squared_error(Y,Y10_pred))).round(2))\n",
    "print('R^2 is',r2_score(Y,Y10_pred).round(2))"
   ]
  },
  {
   "cell_type": "code",
   "execution_count": 27,
   "id": "04ac198c",
   "metadata": {},
   "outputs": [
    {
     "name": "stdout",
     "output_type": "stream",
     "text": [
      "Intercept is [27176.57085778]\n",
      "coef is [[-2241.19358852]]\n",
      "MSE is 2588995.42\n",
      "RMSE is 1609.04\n",
      "R^2 is 0.8\n"
     ]
    }
   ],
   "source": [
    "LR.fit(X11,Y)\n",
    "Y11_pred = LR.predict(X11)\n",
    "print('Intercept is',LR.intercept_)\n",
    "print('coef is',LR.coef_)\n",
    "print('MSE is',mean_squared_error(Y,Y11_pred).round(2))\n",
    "print('RMSE is',(np.sqrt(mean_squared_error(Y,Y11_pred))).round(2))\n",
    "print('R^2 is',r2_score(Y,Y11_pred).round(2))"
   ]
  },
  {
   "cell_type": "code",
   "execution_count": 28,
   "id": "2a7fa866",
   "metadata": {},
   "outputs": [
    {
     "name": "stdout",
     "output_type": "stream",
     "text": [
      "Intercept is [33666.08997325]\n",
      "coef is [[-6105.67894955]]\n",
      "MSE is 2582246.03\n",
      "RMSE is 1606.94\n",
      "R^2 is 0.8\n"
     ]
    }
   ],
   "source": [
    "LR.fit(X12,Y)\n",
    "Y12_pred = LR.predict(X12)\n",
    "print('Intercept is',LR.intercept_)\n",
    "print('coef is',LR.coef_)\n",
    "print('MSE is',mean_squared_error(Y,Y12_pred).round(2))\n",
    "print('RMSE is',(np.sqrt(mean_squared_error(Y,Y12_pred))).round(2))\n",
    "print('R^2 is',r2_score(Y,Y12_pred).round(2))"
   ]
  },
  {
   "cell_type": "code",
   "execution_count": 29,
   "id": "c33052b4",
   "metadata": {},
   "outputs": [
    {
     "name": "stdout",
     "output_type": "stream",
     "text": [
      "Intercept is [16440.85564301]\n",
      "coef is [[-1.48363684e+00 -9.06529590e-08]]\n",
      "MSE is 4130039.32\n",
      "RMSE is 2032.25\n",
      "R^2 is 0.69\n"
     ]
    }
   ],
   "source": [
    "LR.fit(X13,Y)\n",
    "Y13_pred = LR.predict(X13)\n",
    "print('Intercept is',LR.intercept_)\n",
    "print('coef is',LR.coef_)\n",
    "print('MSE is',mean_squared_error(Y,Y13_pred).round(2))\n",
    "print('RMSE is',(np.sqrt(mean_squared_error(Y,Y13_pred))).round(2))\n",
    "print('R^2 is',r2_score(Y,Y13_pred).round(2))"
   ]
  },
  {
   "cell_type": "code",
   "execution_count": 30,
   "id": "282d269b",
   "metadata": {},
   "outputs": [
    {
     "name": "stdout",
     "output_type": "stream",
     "text": [
      "Intercept is [14815.96177708]\n",
      "coef is [[-1.65625807e-02 -4.68977378e-13]]\n",
      "MSE is 5453818.69\n",
      "RMSE is 2335.34\n",
      "R^2 is 0.59\n"
     ]
    }
   ],
   "source": [
    "LR.fit(X14,Y)\n",
    "Y14_pred = LR.predict(X14)\n",
    "print('Intercept is',LR.intercept_)\n",
    "print('coef is',LR.coef_)\n",
    "print('MSE is',mean_squared_error(Y,Y14_pred).round(2))\n",
    "print('RMSE is',(np.sqrt(mean_squared_error(Y,Y14_pred))).round(2))\n",
    "print('R^2 is',r2_score(Y,Y14_pred).round(2))"
   ]
  },
  {
   "cell_type": "code",
   "execution_count": 31,
   "id": "dde55b2e",
   "metadata": {},
   "outputs": [
    {
     "name": "stdout",
     "output_type": "stream",
     "text": [
      "Intercept is [27372.98688077]\n",
      "coef is [[-2012.79398401    -7.45333603]]\n",
      "MSE is 2397336.2\n",
      "RMSE is 1548.33\n",
      "R^2 is 0.82\n"
     ]
    }
   ],
   "source": [
    "LR.fit(X15,Y)\n",
    "Y15_pred = LR.predict(X15)\n",
    "print('Intercept is',LR.intercept_)\n",
    "print('coef is',LR.coef_)\n",
    "print('MSE is',mean_squared_error(Y,Y15_pred).round(2))\n",
    "print('RMSE is',(np.sqrt(mean_squared_error(Y,Y15_pred))).round(2))\n",
    "print('R^2 is',r2_score(Y,Y15_pred).round(2))"
   ]
  },
  {
   "cell_type": "code",
   "execution_count": 32,
   "id": "7cd824b1",
   "metadata": {},
   "outputs": [
    {
     "name": "stdout",
     "output_type": "stream",
     "text": [
      "Intercept is [33791.02574281]\n",
      "coef is [[-5549.7626121    -56.22976615]]\n",
      "MSE is 2455292.04\n",
      "RMSE is 1566.94\n",
      "R^2 is 0.81\n"
     ]
    }
   ],
   "source": [
    "LR.fit(X16,Y)\n",
    "Y16_pred = LR.predict(X16)\n",
    "print('Intercept is',LR.intercept_)\n",
    "print('coef is',LR.coef_)\n",
    "print('MSE is',mean_squared_error(Y,Y16_pred).round(2))\n",
    "print('RMSE is',(np.sqrt(mean_squared_error(Y,Y16_pred))).round(2))\n",
    "print('R^2 is',r2_score(Y,Y16_pred).round(2))"
   ]
  },
  {
   "cell_type": "code",
   "execution_count": 33,
   "id": "4ec542a0",
   "metadata": {},
   "outputs": [
    {
     "name": "stdout",
     "output_type": "stream",
     "text": [
      "Intercept is [14152.75605636]\n",
      "coef is [[-1.46484176e+00 -6.42399642e-08  1.95838750e-01]]\n",
      "MSE is 3744127.08\n",
      "RMSE is 1934.97\n",
      "R^2 is 0.72\n"
     ]
    }
   ],
   "source": [
    "LR.fit(X17,Y)\n",
    "Y17_pred = LR.predict(X17)\n",
    "print('Intercept is',LR.intercept_)\n",
    "print('coef is',LR.coef_)\n",
    "print('MSE is',mean_squared_error(Y,Y17_pred).round(2))\n",
    "print('RMSE is',(np.sqrt(mean_squared_error(Y,Y17_pred))).round(2))\n",
    "print('R^2 is',r2_score(Y,Y17_pred).round(2))"
   ]
  },
  {
   "cell_type": "code",
   "execution_count": 34,
   "id": "9a6dd120",
   "metadata": {},
   "outputs": [
    {
     "name": "stdout",
     "output_type": "stream",
     "text": [
      "Intercept is [13290.43395814]\n",
      "coef is [[-1.61300517e-02 -3.51173396e-13  1.20717929e-03]]\n",
      "MSE is 4913671.13\n",
      "RMSE is 2216.68\n",
      "R^2 is 0.63\n"
     ]
    }
   ],
   "source": [
    "LR.fit(X18,Y)\n",
    "Y18_pred = LR.predict(X18)\n",
    "print('Intercept is',LR.intercept_)\n",
    "print('coef is',LR.coef_)\n",
    "print('MSE is',mean_squared_error(Y,Y18_pred).round(2))\n",
    "print('RMSE is',(np.sqrt(mean_squared_error(Y,Y18_pred))).round(2))\n",
    "print('R^2 is',r2_score(Y,Y18_pred).round(2))"
   ]
  },
  {
   "cell_type": "code",
   "execution_count": 35,
   "id": "d0252431",
   "metadata": {},
   "outputs": [
    {
     "name": "stdout",
     "output_type": "stream",
     "text": [
      "Intercept is [19523.38652143]\n",
      "coef is [[-2033.57071864    -4.90804738   732.76242939]]\n",
      "MSE is 2134441.29\n",
      "RMSE is 1460.97\n",
      "R^2 is 0.84\n"
     ]
    }
   ],
   "source": [
    "LR.fit(X19,Y)\n",
    "Y19_pred = LR.predict(X19)\n",
    "print('Intercept is',LR.intercept_)\n",
    "print('coef is',LR.coef_)\n",
    "print('MSE is',mean_squared_error(Y,Y19_pred).round(2))\n",
    "print('RMSE is',(np.sqrt(mean_squared_error(Y,Y19_pred))).round(2))\n",
    "print('R^2 is',r2_score(Y,Y19_pred).round(2))"
   ]
  },
  {
   "cell_type": "code",
   "execution_count": 36,
   "id": "73e42521",
   "metadata": {},
   "outputs": [
    {
     "name": "stdout",
     "output_type": "stream",
     "text": [
      "Intercept is [21698.04250335]\n",
      "coef is [[-5615.6062193    -33.46669368  2459.27064638]]\n",
      "MSE is 2168510.72\n",
      "RMSE is 1472.59\n",
      "R^2 is 0.84\n"
     ]
    }
   ],
   "source": [
    "LR.fit(X20,Y)\n",
    "Y20_pred = LR.predict(X20)\n",
    "print('Intercept is',LR.intercept_)\n",
    "print('coef is',LR.coef_)\n",
    "print('MSE is',mean_squared_error(Y,Y20_pred).round(2))\n",
    "print('RMSE is',(np.sqrt(mean_squared_error(Y,Y20_pred))).round(2))\n",
    "print('R^2 is',r2_score(Y,Y20_pred).round(2))"
   ]
  },
  {
   "cell_type": "code",
   "execution_count": 37,
   "id": "8564fbc3",
   "metadata": {},
   "outputs": [
    {
     "name": "stdout",
     "output_type": "stream",
     "text": [
      "Intercept is [14100.6028044]\n",
      "coef is [[-1.46058653e+00 -6.49604529e-08  1.95124926e-01  1.84792893e-05]]\n",
      "MSE is 3728790.71\n",
      "RMSE is 1931.01\n",
      "R^2 is 0.72\n"
     ]
    }
   ],
   "source": [
    "LR.fit(X21,Y)\n",
    "Y21_pred = LR.predict(X21)\n",
    "print('Intercept is',LR.intercept_)\n",
    "print('coef is',LR.coef_)\n",
    "print('MSE is',mean_squared_error(Y,Y21_pred).round(2))\n",
    "print('RMSE is',(np.sqrt(mean_squared_error(Y,Y21_pred))).round(2))\n",
    "print('R^2 is',r2_score(Y,Y21_pred).round(2))"
   ]
  },
  {
   "cell_type": "code",
   "execution_count": 38,
   "id": "3c12f85b",
   "metadata": {},
   "outputs": [
    {
     "name": "stdout",
     "output_type": "stream",
     "text": [
      "Intercept is [13277.42947495]\n",
      "coef is [[-1.61011514e-02 -3.51367810e-13  1.20622122e-03  1.10998160e-09]]\n",
      "MSE is 4899332.62\n",
      "RMSE is 2213.44\n",
      "R^2 is 0.63\n"
     ]
    }
   ],
   "source": [
    "LR.fit(X22,Y)\n",
    "Y22_pred = LR.predict(X22)\n",
    "print('Intercept is',LR.intercept_)\n",
    "print('coef is',LR.coef_)\n",
    "print('MSE is',mean_squared_error(Y,Y22_pred).round(2))\n",
    "print('RMSE is',(np.sqrt(mean_squared_error(Y,Y22_pred))).round(2))\n",
    "print('R^2 is',r2_score(Y,Y22_pred).round(2))"
   ]
  },
  {
   "cell_type": "code",
   "execution_count": 39,
   "id": "f1c92d2c",
   "metadata": {},
   "outputs": [
    {
     "name": "stdout",
     "output_type": "stream",
     "text": [
      "Intercept is [16632.30911312]\n",
      "coef is [[-1971.73119624    -6.2784439    690.62584062    80.98536538]]\n",
      "MSE is 2071282.83\n",
      "RMSE is 1439.2\n",
      "R^2 is 0.84\n"
     ]
    }
   ],
   "source": [
    "LR.fit(X23,Y)\n",
    "Y23_pred = LR.predict(X23)\n",
    "print('Intercept is',LR.intercept_)\n",
    "print('coef is',LR.coef_)\n",
    "print('MSE is',mean_squared_error(Y,Y23_pred).round(2))\n",
    "print('RMSE is',(np.sqrt(mean_squared_error(Y,Y23_pred))).round(2))\n",
    "print('R^2 is',r2_score(Y,Y23_pred).round(2))"
   ]
  },
  {
   "cell_type": "code",
   "execution_count": 40,
   "id": "217adc13",
   "metadata": {},
   "outputs": [
    {
     "name": "stdout",
     "output_type": "stream",
     "text": [
      "Intercept is [16945.21378379]\n",
      "coef is [[-5433.05139034   -46.3210833   2326.01371194   447.44914875]]\n",
      "MSE is 2108579.42\n",
      "RMSE is 1452.09\n",
      "R^2 is 0.84\n"
     ]
    }
   ],
   "source": [
    "LR.fit(X24,Y)\n",
    "Y24_pred = LR.predict(X24)\n",
    "print('Intercept is',LR.intercept_)\n",
    "print('coef is',LR.coef_)\n",
    "print('MSE is',mean_squared_error(Y,Y24_pred).round(2))\n",
    "print('RMSE is',(np.sqrt(mean_squared_error(Y,Y24_pred))).round(2))\n",
    "print('R^2 is',r2_score(Y,Y24_pred).round(2))"
   ]
  },
  {
   "cell_type": "code",
   "execution_count": 41,
   "id": "734c8218",
   "metadata": {},
   "outputs": [
    {
     "name": "stdout",
     "output_type": "stream",
     "text": [
      "Intercept is [13508.76586688]\n",
      "coef is [[-1.44006861e+00 -6.69143834e-08  1.90023581e-01  1.73820993e-05\n",
      "   3.42972545e+01]]\n",
      "MSE is 3662172.09\n",
      "RMSE is 1913.68\n",
      "R^2 is 0.72\n"
     ]
    }
   ],
   "source": [
    "LR.fit(X25,Y)\n",
    "Y25_pred = LR.predict(X25)\n",
    "print('Intercept is',LR.intercept_)\n",
    "print('coef is',LR.coef_)\n",
    "print('MSE is',mean_squared_error(Y,Y25_pred).round(2))\n",
    "print('RMSE is',(np.sqrt(mean_squared_error(Y,Y25_pred))).round(2))\n",
    "print('R^2 is',r2_score(Y,Y25_pred).round(2))"
   ]
  },
  {
   "cell_type": "code",
   "execution_count": 42,
   "id": "aa5ac377",
   "metadata": {},
   "outputs": [
    {
     "name": "stdout",
     "output_type": "stream",
     "text": [
      "Intercept is [12680.56619679]\n",
      "coef is [[-1.58234485e-02 -3.58115108e-13  1.18864875e-03  1.03433977e-09\n",
      "   7.29456836e+00]]\n",
      "MSE is 4785019.56\n",
      "RMSE is 2187.47\n",
      "R^2 is 0.64\n"
     ]
    }
   ],
   "source": [
    "LR.fit(X26,Y)\n",
    "Y26_pred = LR.predict(X26)\n",
    "print('Intercept is',LR.intercept_)\n",
    "print('coef is',LR.coef_)\n",
    "print('MSE is',mean_squared_error(Y,Y26_pred).round(2))\n",
    "print('RMSE is',(np.sqrt(mean_squared_error(Y,Y26_pred))).round(2))\n",
    "print('R^2 is',r2_score(Y,Y26_pred).round(2))"
   ]
  },
  {
   "cell_type": "code",
   "execution_count": 43,
   "id": "1d49a47d",
   "metadata": {},
   "outputs": [
    {
     "name": "stdout",
     "output_type": "stream",
     "text": [
      "Intercept is [15768.03421232]\n",
      "coef is [[-1956.9688655     -6.38770522   675.20025938    77.91685337\n",
      "    531.52772474]]\n",
      "MSE is 2055633.67\n",
      "RMSE is 1433.75\n",
      "R^2 is 0.84\n"
     ]
    }
   ],
   "source": [
    "LR.fit(X27,Y)\n",
    "Y27_pred = LR.predict(X27)\n",
    "print('Intercept is',LR.intercept_)\n",
    "print('coef is',LR.coef_)\n",
    "print('MSE is',mean_squared_error(Y,Y27_pred).round(2))\n",
    "print('RMSE is',(np.sqrt(mean_squared_error(Y,Y27_pred))).round(2))\n",
    "print('R^2 is',r2_score(Y,Y27_pred).round(2))"
   ]
  },
  {
   "cell_type": "code",
   "execution_count": 44,
   "id": "266f6fdb",
   "metadata": {},
   "outputs": [
    {
     "name": "stdout",
     "output_type": "stream",
     "text": [
      "Intercept is [15836.5684838]\n",
      "coef is [[-5397.48192679   -47.11687855  2282.22470951   430.25243252\n",
      "    891.32060216]]\n",
      "MSE is 2096173.55\n",
      "RMSE is 1447.82\n",
      "R^2 is 0.84\n"
     ]
    }
   ],
   "source": [
    "LR.fit(X28,Y)\n",
    "Y28_pred = LR.predict(X28)\n",
    "print('Intercept is',LR.intercept_)\n",
    "print('coef is',LR.coef_)\n",
    "print('MSE is',mean_squared_error(Y,Y28_pred).round(2))\n",
    "print('RMSE is',(np.sqrt(mean_squared_error(Y,Y28_pred))).round(2))\n",
    "print('R^2 is',r2_score(Y,Y28_pred).round(2))"
   ]
  },
  {
   "cell_type": "code",
   "execution_count": 45,
   "id": "c388aa3b",
   "metadata": {},
   "outputs": [
    {
     "name": "stdout",
     "output_type": "stream",
     "text": [
      "Intercept is [12627.97789486]\n",
      "coef is [[-1.43877983e+00 -6.79475836e-08  1.83518123e-01  1.73990393e-05\n",
      "   3.60747133e+01  3.63830811e+01]]\n",
      "MSE is 3657521.72\n",
      "RMSE is 1912.46\n",
      "R^2 is 0.72\n"
     ]
    }
   ],
   "source": [
    "LR.fit(X29,Y)\n",
    "Y29_pred = LR.predict(X29)\n",
    "print('Intercept is',LR.intercept_)\n",
    "print('coef is',LR.coef_)\n",
    "print('MSE is',mean_squared_error(Y,Y29_pred).round(2))\n",
    "print('RMSE is',(np.sqrt(mean_squared_error(Y,Y29_pred))).round(2))\n",
    "print('R^2 is',r2_score(Y,Y29_pred).round(2))"
   ]
  },
  {
   "cell_type": "code",
   "execution_count": 46,
   "id": "dad396f0",
   "metadata": {},
   "outputs": [
    {
     "name": "stdout",
     "output_type": "stream",
     "text": [
      "Intercept is [12748.4989036]\n",
      "coef is [[-1.58248244e-02 -3.57664227e-13  1.19313829e-03  1.03417282e-09\n",
      "   7.26051807e+00 -5.51391894e-01]]\n",
      "MSE is 4784951.05\n",
      "RMSE is 2187.45\n",
      "R^2 is 0.64\n"
     ]
    }
   ],
   "source": [
    "LR.fit(X30,Y)\n",
    "Y30_pred = LR.predict(X30)\n",
    "print('Intercept is',LR.intercept_)\n",
    "print('coef is',LR.coef_)\n",
    "print('MSE is',mean_squared_error(Y,Y30_pred).round(2))\n",
    "print('RMSE is',(np.sqrt(mean_squared_error(Y,Y30_pred))).round(2))\n",
    "print('R^2 is',r2_score(Y,Y30_pred).round(2))"
   ]
  },
  {
   "cell_type": "code",
   "execution_count": 47,
   "id": "3273052a",
   "metadata": {},
   "outputs": [
    {
     "name": "stdout",
     "output_type": "stream",
     "text": [
      "Intercept is [6746.18076037]\n",
      "coef is [[-1949.42523201    -6.66896023   621.87307954    77.28525221\n",
      "    664.10144902  4163.83826449]]\n",
      "MSE is 2027899.86\n",
      "RMSE is 1424.04\n",
      "R^2 is 0.85\n"
     ]
    }
   ],
   "source": [
    "LR.fit(X31,Y)\n",
    "Y31_pred = LR.predict(X31)\n",
    "print('Intercept is',LR.intercept_)\n",
    "print('coef is',LR.coef_)\n",
    "print('MSE is',mean_squared_error(Y,Y31_pred).round(2))\n",
    "print('RMSE is',(np.sqrt(mean_squared_error(Y,Y31_pred))).round(2))\n",
    "print('R^2 is',r2_score(Y,Y31_pred).round(2))"
   ]
  },
  {
   "cell_type": "code",
   "execution_count": 48,
   "id": "6ba9793e",
   "metadata": {},
   "outputs": [
    {
     "name": "stdout",
     "output_type": "stream",
     "text": [
      "Intercept is [2258.15887219]\n",
      "coef is [[-5376.88805556   -49.50875306  2119.7841799    424.96334929\n",
      "   1138.22358938  8186.95086707]]\n",
      "MSE is 2068298.25\n",
      "RMSE is 1438.16\n",
      "R^2 is 0.84\n"
     ]
    }
   ],
   "source": [
    "LR.fit(X32,Y)\n",
    "Y32_pred = LR.predict(X32)\n",
    "print('Intercept is',LR.intercept_)\n",
    "print('coef is',LR.coef_)\n",
    "print('MSE is',mean_squared_error(Y,Y32_pred).round(2))\n",
    "print('RMSE is',(np.sqrt(mean_squared_error(Y,Y32_pred))).round(2))\n",
    "print('R^2 is',r2_score(Y,Y32_pred).round(2))"
   ]
  },
  {
   "cell_type": "code",
   "execution_count": 49,
   "id": "a127c867",
   "metadata": {},
   "outputs": [
    {
     "name": "stdout",
     "output_type": "stream",
     "text": [
      "Intercept is [11535.39977479]\n",
      "coef is [[-1.27442297e+00 -1.17126794e-07  2.37104607e-01  1.14623429e-05\n",
      "   2.88286914e+01  2.25293459e+01  8.06100129e-02]]\n",
      "MSE is 3088577.02\n",
      "RMSE is 1757.43\n",
      "R^2 is 0.77\n"
     ]
    }
   ],
   "source": [
    "LR.fit(X33,Y)\n",
    "Y33_pred = LR.predict(X33)\n",
    "print('Intercept is',LR.intercept_)\n",
    "print('coef is',LR.coef_)\n",
    "print('MSE is',mean_squared_error(Y,Y33_pred).round(2))\n",
    "print('RMSE is',(np.sqrt(mean_squared_error(Y,Y33_pred))).round(2))\n",
    "print('R^2 is',r2_score(Y,Y33_pred).round(2))"
   ]
  },
  {
   "cell_type": "code",
   "execution_count": 50,
   "id": "e2af27c2",
   "metadata": {},
   "outputs": [
    {
     "name": "stdout",
     "output_type": "stream",
     "text": [
      "Intercept is [11960.60223564]\n",
      "coef is [[-1.41740266e-02 -6.11677753e-13  1.42359413e-03  1.03007891e-09\n",
      "   6.25887287e+00 -1.17528645e+00  3.86083309e-04]]\n",
      "MSE is 4017371.54\n",
      "RMSE is 2004.34\n",
      "R^2 is 0.69\n"
     ]
    }
   ],
   "source": [
    "LR.fit(X34,Y)\n",
    "Y34_pred = LR.predict(X34)\n",
    "print('Intercept is',LR.intercept_)\n",
    "print('coef is',LR.coef_)\n",
    "print('MSE is',mean_squared_error(Y,Y34_pred).round(2))\n",
    "print('RMSE is',(np.sqrt(mean_squared_error(Y,Y34_pred))).round(2))\n",
    "print('R^2 is',r2_score(Y,Y34_pred).round(2))"
   ]
  },
  {
   "cell_type": "code",
   "execution_count": 51,
   "id": "a87d3f3d",
   "metadata": {},
   "outputs": [
    {
     "name": "stdout",
     "output_type": "stream",
     "text": [
      "Intercept is [6146.29870291]\n",
      "coef is [[-1829.8871575     -8.60499398   831.2900231     16.84686307\n",
      "    498.1943621   3457.07275091   264.54822729]]\n",
      "MSE is 1853022.96\n",
      "RMSE is 1361.26\n",
      "R^2 is 0.86\n"
     ]
    }
   ],
   "source": [
    "LR.fit(X35,Y)\n",
    "Y35_pred = LR.predict(X35)\n",
    "print('Intercept is',LR.intercept_)\n",
    "print('coef is',LR.coef_)\n",
    "print('MSE is',mean_squared_error(Y,Y35_pred).round(2))\n",
    "print('RMSE is',(np.sqrt(mean_squared_error(Y,Y35_pred))).round(2))\n",
    "print('R^2 is',r2_score(Y,Y35_pred).round(2))"
   ]
  },
  {
   "cell_type": "code",
   "execution_count": 52,
   "id": "a92b444c",
   "metadata": {},
   "outputs": [
    {
     "name": "stdout",
     "output_type": "stream",
     "text": [
      "Intercept is [2036.9475333]\n",
      "coef is [[-5099.18130323   -64.12902322  2747.75212149    85.33398591\n",
      "    859.72771275  6921.96455248   778.59163989]]\n",
      "MSE is 1916743.26\n",
      "RMSE is 1384.46\n",
      "R^2 is 0.85\n"
     ]
    }
   ],
   "source": [
    "LR.fit(X36,Y)\n",
    "Y36_pred = LR.predict(X36)\n",
    "print('Intercept is',LR.intercept_)\n",
    "print('coef is',LR.coef_)\n",
    "print('MSE is',mean_squared_error(Y,Y36_pred).round(2))\n",
    "print('RMSE is',(np.sqrt(mean_squared_error(Y,Y36_pred))).round(2))\n",
    "print('R^2 is',r2_score(Y,Y36_pred).round(2))"
   ]
  },
  {
   "cell_type": "code",
   "execution_count": 53,
   "id": "d8d032b4",
   "metadata": {},
   "outputs": [
    {
     "name": "stdout",
     "output_type": "stream",
     "text": [
      "Intercept is [2260.36108448]\n",
      "coef is [[-1.15056756e+00 -1.14344013e-07  1.49810486e-01  4.14067817e-06\n",
      "   9.20823266e-01  2.22609394e+01  8.65357755e-03  9.47140892e-03]]\n",
      "MSE is 2575311.27\n",
      "RMSE is 1604.78\n",
      "R^2 is 0.8\n"
     ]
    }
   ],
   "source": [
    "LR.fit(X37,Y)\n",
    "Y37_pred = LR.predict(X37)\n",
    "print('Intercept is',LR.intercept_)\n",
    "print('coef is',LR.coef_)\n",
    "print('MSE is',mean_squared_error(Y,Y37_pred).round(2))\n",
    "print('RMSE is',(np.sqrt(mean_squared_error(Y,Y37_pred))).round(2))\n",
    "print('R^2 is',r2_score(Y,Y37_pred).round(2))"
   ]
  },
  {
   "cell_type": "code",
   "execution_count": 54,
   "id": "8a994f8b",
   "metadata": {},
   "outputs": [
    {
     "name": "stdout",
     "output_type": "stream",
     "text": [
      "Intercept is [5883.25189244]\n",
      "coef is [[-1.29911952e-02 -5.85221788e-13  9.44533679e-04  5.84792906e-10\n",
      "   1.09956822e+00 -1.39573427e+00  4.41666365e-05  5.77372601e-06]]\n",
      "MSE is 3403040.25\n",
      "RMSE is 1844.73\n",
      "R^2 is 0.74\n"
     ]
    }
   ],
   "source": [
    "LR.fit(X38,Y)\n",
    "Y38_pred = LR.predict(X38)\n",
    "print('Intercept is',LR.intercept_)\n",
    "print('coef is',LR.coef_)\n",
    "print('MSE is',mean_squared_error(Y,Y38_pred).round(2))\n",
    "print('RMSE is',(np.sqrt(mean_squared_error(Y,Y38_pred))).round(2))\n",
    "print('R^2 is',r2_score(Y,Y38_pred).round(2))"
   ]
  },
  {
   "cell_type": "code",
   "execution_count": 55,
   "id": "088ca119",
   "metadata": {},
   "outputs": [
    {
     "name": "stdout",
     "output_type": "stream",
     "text": [
      "Intercept is [-20775.386586]\n",
      "coef is [[-1624.76591856    -9.14891379   723.58744816   -41.80307817\n",
      "    -41.30694262  3156.75403738   117.58931149   978.79823087]]\n",
      "MSE is 1620443.18\n",
      "RMSE is 1272.97\n",
      "R^2 is 0.88\n"
     ]
    }
   ],
   "source": [
    "LR.fit(X39,Y)\n",
    "Y39_pred = LR.predict(X39)\n",
    "print('Intercept is',LR.intercept_)\n",
    "print('coef is',LR.coef_)\n",
    "print('MSE is',mean_squared_error(Y,Y39_pred).round(2))\n",
    "print('RMSE is',(np.sqrt(mean_squared_error(Y,Y39_pred))).round(2))\n",
    "print('R^2 is',r2_score(Y,Y39_pred).round(2))"
   ]
  },
  {
   "cell_type": "code",
   "execution_count": 56,
   "id": "22254d29",
   "metadata": {},
   "outputs": [
    {
     "name": "stdout",
     "output_type": "stream",
     "text": [
      "Intercept is [-37397.9513226]\n",
      "coef is [[-4523.35982358   -68.4805612   2542.55926466  -326.97601353\n",
      "   -144.06863309  6178.08869224   409.20688637  4656.19642365]]\n",
      "MSE is 1696215.13\n",
      "RMSE is 1302.39\n",
      "R^2 is 0.87\n"
     ]
    }
   ],
   "source": [
    "LR.fit(X40,Y)\n",
    "Y40_pred = LR.predict(X40)\n",
    "print('Intercept is',LR.intercept_)\n",
    "print('coef is',LR.coef_)\n",
    "print('MSE is',mean_squared_error(Y,Y40_pred).round(2))\n",
    "print('RMSE is',(np.sqrt(mean_squared_error(Y,Y40_pred))).round(2))\n",
    "print('R^2 is',r2_score(Y,Y40_pred).round(2))"
   ]
  },
  {
   "cell_type": "code",
   "execution_count": null,
   "id": "5f645444",
   "metadata": {},
   "outputs": [],
   "source": []
  }
 ],
 "metadata": {
  "kernelspec": {
   "display_name": "Python 3 (ipykernel)",
   "language": "python",
   "name": "python3"
  },
  "language_info": {
   "codemirror_mode": {
    "name": "ipython",
    "version": 3
   },
   "file_extension": ".py",
   "mimetype": "text/x-python",
   "name": "python",
   "nbconvert_exporter": "python",
   "pygments_lexer": "ipython3",
   "version": "3.9.13"
  }
 },
 "nbformat": 4,
 "nbformat_minor": 5
}
